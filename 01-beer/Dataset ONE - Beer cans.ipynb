{
 "cells": [
  {
   "cell_type": "markdown",
   "metadata": {
    "collapsed": true,
    "jupyter": {
     "outputs_hidden": true
    }
   },
   "source": [
    "# Homework 7, Part One: Lots and lots of questions about beer"
   ]
  },
  {
   "cell_type": "markdown",
   "metadata": {},
   "source": [
    "### Do your importing and your setup"
   ]
  },
  {
   "cell_type": "code",
   "execution_count": 1,
   "metadata": {},
   "outputs": [],
   "source": [
    "import pandas as pd"
   ]
  },
  {
   "cell_type": "markdown",
   "metadata": {},
   "source": [
    "## Read in the file `craftcans.csv`, and look at the first first rows"
   ]
  },
  {
   "cell_type": "code",
   "execution_count": 2,
   "metadata": {},
   "outputs": [
    {
     "data": {
      "text/html": [
       "<div>\n",
       "<style scoped>\n",
       "    .dataframe tbody tr th:only-of-type {\n",
       "        vertical-align: middle;\n",
       "    }\n",
       "\n",
       "    .dataframe tbody tr th {\n",
       "        vertical-align: top;\n",
       "    }\n",
       "\n",
       "    .dataframe thead th {\n",
       "        text-align: right;\n",
       "    }\n",
       "</style>\n",
       "<table border=\"1\" class=\"dataframe\">\n",
       "  <thead>\n",
       "    <tr style=\"text-align: right;\">\n",
       "      <th></th>\n",
       "      <th>Beer</th>\n",
       "      <th>Brewery</th>\n",
       "      <th>Location</th>\n",
       "      <th>Style</th>\n",
       "      <th>Size</th>\n",
       "      <th>ABV</th>\n",
       "      <th>IBUs</th>\n",
       "    </tr>\n",
       "  </thead>\n",
       "  <tbody>\n",
       "    <tr>\n",
       "      <th>0</th>\n",
       "      <td>Get Together</td>\n",
       "      <td>NorthGate Brewing</td>\n",
       "      <td>Minneapolis, MN</td>\n",
       "      <td>American IPA</td>\n",
       "      <td>16 oz.</td>\n",
       "      <td>4.50%</td>\n",
       "      <td>50.0</td>\n",
       "    </tr>\n",
       "    <tr>\n",
       "      <th>1</th>\n",
       "      <td>Maggie's Leap</td>\n",
       "      <td>NorthGate Brewing</td>\n",
       "      <td>Minneapolis, MN</td>\n",
       "      <td>Milk / Sweet Stout</td>\n",
       "      <td>16 oz.</td>\n",
       "      <td>4.90%</td>\n",
       "      <td>26.0</td>\n",
       "    </tr>\n",
       "    <tr>\n",
       "      <th>2</th>\n",
       "      <td>Wall's End</td>\n",
       "      <td>NorthGate Brewing</td>\n",
       "      <td>Minneapolis, MN</td>\n",
       "      <td>English Brown Ale</td>\n",
       "      <td>16 oz.</td>\n",
       "      <td>4.80%</td>\n",
       "      <td>19.0</td>\n",
       "    </tr>\n",
       "    <tr>\n",
       "      <th>3</th>\n",
       "      <td>Pumpion</td>\n",
       "      <td>NorthGate Brewing</td>\n",
       "      <td>Minneapolis, MN</td>\n",
       "      <td>Pumpkin Ale</td>\n",
       "      <td>16 oz.</td>\n",
       "      <td>6.00%</td>\n",
       "      <td>38.0</td>\n",
       "    </tr>\n",
       "    <tr>\n",
       "      <th>4</th>\n",
       "      <td>Stronghold</td>\n",
       "      <td>NorthGate Brewing</td>\n",
       "      <td>Minneapolis, MN</td>\n",
       "      <td>American Porter</td>\n",
       "      <td>16 oz.</td>\n",
       "      <td>6.00%</td>\n",
       "      <td>25.0</td>\n",
       "    </tr>\n",
       "  </tbody>\n",
       "</table>\n",
       "</div>"
      ],
      "text/plain": [
       "            Beer            Brewery         Location               Style  \\\n",
       "0   Get Together  NorthGate Brewing  Minneapolis, MN        American IPA   \n",
       "1  Maggie's Leap  NorthGate Brewing  Minneapolis, MN  Milk / Sweet Stout   \n",
       "2     Wall's End  NorthGate Brewing  Minneapolis, MN   English Brown Ale   \n",
       "3        Pumpion  NorthGate Brewing  Minneapolis, MN         Pumpkin Ale   \n",
       "4     Stronghold  NorthGate Brewing  Minneapolis, MN     American Porter   \n",
       "\n",
       "     Size    ABV  IBUs  \n",
       "0  16 oz.  4.50%  50.0  \n",
       "1  16 oz.  4.90%  26.0  \n",
       "2  16 oz.  4.80%  19.0  \n",
       "3  16 oz.  6.00%  38.0  \n",
       "4  16 oz.  6.00%  25.0  "
      ]
     },
     "execution_count": 2,
     "metadata": {},
     "output_type": "execute_result"
    }
   ],
   "source": [
    "df = pd.read_csv(\"craftcans.csv\", na_values={'IBUs': ['Does not apply']})\n",
    "\n",
    "\n",
    "df.head()"
   ]
  },
  {
   "cell_type": "markdown",
   "metadata": {},
   "source": [
    "## How many rows do you have in the data? What are the column types?"
   ]
  },
  {
   "cell_type": "code",
   "execution_count": 3,
   "metadata": {},
   "outputs": [
    {
     "data": {
      "text/plain": [
       "(2416, 7)"
      ]
     },
     "execution_count": 3,
     "metadata": {},
     "output_type": "execute_result"
    }
   ],
   "source": [
    "df.shape"
   ]
  },
  {
   "cell_type": "code",
   "execution_count": 4,
   "metadata": {},
   "outputs": [
    {
     "name": "stdout",
     "output_type": "stream",
     "text": [
      "<class 'pandas.core.frame.DataFrame'>\n",
      "RangeIndex: 2416 entries, 0 to 2415\n",
      "Data columns (total 7 columns):\n",
      " #   Column    Non-Null Count  Dtype  \n",
      "---  ------    --------------  -----  \n",
      " 0   Beer      2416 non-null   object \n",
      " 1   Brewery   2410 non-null   object \n",
      " 2   Location  2410 non-null   object \n",
      " 3   Style     2405 non-null   object \n",
      " 4   Size      2410 non-null   object \n",
      " 5   ABV       2348 non-null   object \n",
      " 6   IBUs      1405 non-null   float64\n",
      "dtypes: float64(1), object(6)\n",
      "memory usage: 132.3+ KB\n"
     ]
    }
   ],
   "source": [
    "df.info()"
   ]
  },
  {
   "cell_type": "markdown",
   "metadata": {},
   "source": [
    "# Checking out our alcohol"
   ]
  },
  {
   "cell_type": "markdown",
   "metadata": {},
   "source": [
    "## What are the top 10 producers in terms of different cans of beer?"
   ]
  },
  {
   "cell_type": "code",
   "execution_count": 5,
   "metadata": {},
   "outputs": [
    {
     "data": {
      "text/plain": [
       "Brewery\n",
       "Brewery Vivant                62\n",
       "Oskar Blues Brewery           41\n",
       "Sun King Brewing Company      38\n",
       "Cigar City Brewing Company    24\n",
       "Sixpoint Craft Ales           24\n",
       "Great Crescent Brewery        20\n",
       "21st Amendment Brewery        19\n",
       "SanTan Brewing Company        19\n",
       "Upslope Brewing Company       18\n",
       "Great River Brewery           18\n",
       "Name: Beer, dtype: int64"
      ]
     },
     "execution_count": 5,
     "metadata": {},
     "output_type": "execute_result"
    }
   ],
   "source": [
    "df.groupby('Brewery')['Beer'].nunique().sort_values(ascending=False).head(10)"
   ]
  },
  {
   "cell_type": "markdown",
   "metadata": {},
   "source": [
    "## What is the most common ABV? (alcohol by volume)"
   ]
  },
  {
   "cell_type": "code",
   "execution_count": 6,
   "metadata": {},
   "outputs": [
    {
     "data": {
      "text/plain": [
       "0    5.00%\n",
       "Name: ABV, dtype: object"
      ]
     },
     "execution_count": 6,
     "metadata": {},
     "output_type": "execute_result"
    }
   ],
   "source": [
    "# Thought at first you meant mean but then I realised you meant mode. \n",
    "\n",
    "df['ABV'].mode()"
   ]
  },
  {
   "cell_type": "markdown",
   "metadata": {},
   "source": [
    "## Oh, weird, ABV isn't a number. Convert it to a number for me, please.\n",
    "\n",
    "It's going to take a few steps!\n",
    "\n",
    "### First, let's just look at the ABV column by itself"
   ]
  },
  {
   "cell_type": "code",
   "execution_count": 7,
   "metadata": {},
   "outputs": [
    {
     "data": {
      "text/plain": [
       "0    4.50%\n",
       "1    4.90%\n",
       "2    4.80%\n",
       "3    6.00%\n",
       "4    6.00%\n",
       "Name: ABV, dtype: object"
      ]
     },
     "execution_count": 7,
     "metadata": {},
     "output_type": "execute_result"
    }
   ],
   "source": [
    "df['ABV'].head()"
   ]
  },
  {
   "cell_type": "markdown",
   "metadata": {},
   "source": [
    "### Hm, `%` isn't part of  a number. Let's remove it.\n",
    "\n",
    "When you're confident you got it right, save the results back into the `ABV` column.\n",
    "\n",
    "- *Tip: In programming the easiest way to remove something is to *replacing it with nothing*.*\n",
    "- *Tip: \"nothing\" might seem like `NaN` sinc we talked about it a lot in class, but in this case it isn't! It's just an empty string, like \"\"*\n",
    "- *Tip: `.replace` is used for replacing ENTIRE cells, while `.str.replace` is useful for replacing PARTS of cells (see my New York example)*"
   ]
  },
  {
   "cell_type": "code",
   "execution_count": 8,
   "metadata": {},
   "outputs": [],
   "source": [
    "df['ABV'] = df['ABV'].str.replace(\"%\", \"\").astype(float)"
   ]
  },
  {
   "cell_type": "code",
   "execution_count": 9,
   "metadata": {},
   "outputs": [
    {
     "data": {
      "text/html": [
       "<div>\n",
       "<style scoped>\n",
       "    .dataframe tbody tr th:only-of-type {\n",
       "        vertical-align: middle;\n",
       "    }\n",
       "\n",
       "    .dataframe tbody tr th {\n",
       "        vertical-align: top;\n",
       "    }\n",
       "\n",
       "    .dataframe thead th {\n",
       "        text-align: right;\n",
       "    }\n",
       "</style>\n",
       "<table border=\"1\" class=\"dataframe\">\n",
       "  <thead>\n",
       "    <tr style=\"text-align: right;\">\n",
       "      <th></th>\n",
       "      <th>Beer</th>\n",
       "      <th>Brewery</th>\n",
       "      <th>Location</th>\n",
       "      <th>Style</th>\n",
       "      <th>Size</th>\n",
       "      <th>ABV</th>\n",
       "      <th>IBUs</th>\n",
       "    </tr>\n",
       "  </thead>\n",
       "  <tbody>\n",
       "    <tr>\n",
       "      <th>0</th>\n",
       "      <td>Get Together</td>\n",
       "      <td>NorthGate Brewing</td>\n",
       "      <td>Minneapolis, MN</td>\n",
       "      <td>American IPA</td>\n",
       "      <td>16 oz.</td>\n",
       "      <td>4.5</td>\n",
       "      <td>50.0</td>\n",
       "    </tr>\n",
       "    <tr>\n",
       "      <th>1</th>\n",
       "      <td>Maggie's Leap</td>\n",
       "      <td>NorthGate Brewing</td>\n",
       "      <td>Minneapolis, MN</td>\n",
       "      <td>Milk / Sweet Stout</td>\n",
       "      <td>16 oz.</td>\n",
       "      <td>4.9</td>\n",
       "      <td>26.0</td>\n",
       "    </tr>\n",
       "    <tr>\n",
       "      <th>2</th>\n",
       "      <td>Wall's End</td>\n",
       "      <td>NorthGate Brewing</td>\n",
       "      <td>Minneapolis, MN</td>\n",
       "      <td>English Brown Ale</td>\n",
       "      <td>16 oz.</td>\n",
       "      <td>4.8</td>\n",
       "      <td>19.0</td>\n",
       "    </tr>\n",
       "    <tr>\n",
       "      <th>3</th>\n",
       "      <td>Pumpion</td>\n",
       "      <td>NorthGate Brewing</td>\n",
       "      <td>Minneapolis, MN</td>\n",
       "      <td>Pumpkin Ale</td>\n",
       "      <td>16 oz.</td>\n",
       "      <td>6.0</td>\n",
       "      <td>38.0</td>\n",
       "    </tr>\n",
       "    <tr>\n",
       "      <th>4</th>\n",
       "      <td>Stronghold</td>\n",
       "      <td>NorthGate Brewing</td>\n",
       "      <td>Minneapolis, MN</td>\n",
       "      <td>American Porter</td>\n",
       "      <td>16 oz.</td>\n",
       "      <td>6.0</td>\n",
       "      <td>25.0</td>\n",
       "    </tr>\n",
       "  </tbody>\n",
       "</table>\n",
       "</div>"
      ],
      "text/plain": [
       "            Beer            Brewery         Location               Style  \\\n",
       "0   Get Together  NorthGate Brewing  Minneapolis, MN        American IPA   \n",
       "1  Maggie's Leap  NorthGate Brewing  Minneapolis, MN  Milk / Sweet Stout   \n",
       "2     Wall's End  NorthGate Brewing  Minneapolis, MN   English Brown Ale   \n",
       "3        Pumpion  NorthGate Brewing  Minneapolis, MN         Pumpkin Ale   \n",
       "4     Stronghold  NorthGate Brewing  Minneapolis, MN     American Porter   \n",
       "\n",
       "     Size  ABV  IBUs  \n",
       "0  16 oz.  4.5  50.0  \n",
       "1  16 oz.  4.9  26.0  \n",
       "2  16 oz.  4.8  19.0  \n",
       "3  16 oz.  6.0  38.0  \n",
       "4  16 oz.  6.0  25.0  "
      ]
     },
     "execution_count": 9,
     "metadata": {},
     "output_type": "execute_result"
    }
   ],
   "source": [
    "df.head()"
   ]
  },
  {
   "cell_type": "markdown",
   "metadata": {},
   "source": [
    "### Now let's turn `ABV` into a numeric data type\n",
    "\n",
    "Save the results back into the `ABV` column (again), and then check `df.dtypes` to make sure it worked.\n",
    "\n",
    "- *Tip: We used `.astype(int)` during class, but this has a decimal in it...*"
   ]
  },
  {
   "cell_type": "code",
   "execution_count": 10,
   "metadata": {},
   "outputs": [
    {
     "data": {
      "text/plain": [
       "Beer         object\n",
       "Brewery      object\n",
       "Location     object\n",
       "Style        object\n",
       "Size         object\n",
       "ABV         float64\n",
       "IBUs        float64\n",
       "dtype: object"
      ]
     },
     "execution_count": 10,
     "metadata": {},
     "output_type": "execute_result"
    }
   ],
   "source": [
    "df.dtypes"
   ]
  },
  {
   "cell_type": "markdown",
   "metadata": {},
   "source": [
    "## What's the ABV of the average beer look like?\n",
    "\n",
    "### Show me in two different ways: one command to show the `median`/`mean`/etc, and secondly show me a chart"
   ]
  },
  {
   "cell_type": "code",
   "execution_count": 11,
   "metadata": {},
   "outputs": [
    {
     "data": {
      "text/plain": [
       "np.float64(5.977342419080068)"
      ]
     },
     "execution_count": 11,
     "metadata": {},
     "output_type": "execute_result"
    }
   ],
   "source": [
    "df['ABV'].mean()"
   ]
  },
  {
   "cell_type": "code",
   "execution_count": 12,
   "metadata": {},
   "outputs": [
    {
     "data": {
      "text/plain": [
       "np.float64(5.6)"
      ]
     },
     "execution_count": 12,
     "metadata": {},
     "output_type": "execute_result"
    }
   ],
   "source": [
    "df.ABV.median()"
   ]
  },
  {
   "cell_type": "code",
   "execution_count": 13,
   "metadata": {},
   "outputs": [
    {
     "data": {
      "text/plain": [
       "count    2348.000000\n",
       "mean        5.977342\n",
       "std         1.354173\n",
       "min         0.100000\n",
       "25%         5.000000\n",
       "50%         5.600000\n",
       "75%         6.700000\n",
       "max        12.800000\n",
       "Name: ABV, dtype: float64"
      ]
     },
     "execution_count": 13,
     "metadata": {},
     "output_type": "execute_result"
    }
   ],
   "source": [
    "df.ABV.describe()"
   ]
  },
  {
   "cell_type": "code",
   "execution_count": 14,
   "metadata": {},
   "outputs": [
    {
     "data": {
      "text/plain": [
       "<Axes: >"
      ]
     },
     "execution_count": 14,
     "metadata": {},
     "output_type": "execute_result"
    },
    {
     "data": {
      "image/png": "[encoded data removed]",
      "text/plain": [
       "<Figure size 640x480 with 1 Axes>"
      ]
     },
     "metadata": {},
     "output_type": "display_data"
    }
   ],
   "source": [
    "df.ABV.plot(kind='bar')"
   ]
  },
  {
   "cell_type": "code",
   "execution_count": 15,
   "metadata": {},
   "outputs": [
    {
     "data": {
      "text/plain": [
       "<Axes: >"
      ]
     },
     "execution_count": 15,
     "metadata": {},
     "output_type": "execute_result"
    },
    {
     "data": {
      "image/png": "[encoded data removed]",
      "text/plain": [
       "<Figure size 640x480 with 1 Axes>"
      ]
     },
     "metadata": {},
     "output_type": "display_data"
    }
   ],
   "source": [
    "df.ABV.sort_values().plot(kind='bar')"
   ]
  },
  {
   "cell_type": "code",
   "execution_count": 16,
   "metadata": {},
   "outputs": [
    {
     "data": {
      "text/plain": [
       "<Axes: xlabel='Beer'>"
      ]
     },
     "execution_count": 16,
     "metadata": {},
     "output_type": "execute_result"
    },
    {
     "data": {
      "image/png": "[encoded data removed]",
      "text/plain": [
       "<Figure size 640x480 with 1 Axes>"
      ]
     },
     "metadata": {},
     "output_type": "display_data"
    }
   ],
   "source": [
    "df.sort_values('ABV').plot(x='Beer', y='ABV', kind='line')"
   ]
  },
  {
   "cell_type": "markdown",
   "metadata": {},
   "source": [
    "### We don't have ABV for all of the beers, how many are we missing them from?\n",
    "\n",
    "- *Tip: You can use `isnull()` or `notnull()` to see where a column is missing data.*\n",
    "- *Tip: You just want to count how many `True`s and `False`s there are.*\n",
    "- *Tip: What does `.sum()` do when you have trues and falses? What about `.value_counts()`?*"
   ]
  },
  {
   "cell_type": "code",
   "execution_count": 17,
   "metadata": {},
   "outputs": [
    {
     "data": {
      "text/plain": [
       "0       False\n",
       "1       False\n",
       "2       False\n",
       "3       False\n",
       "4       False\n",
       "        ...  \n",
       "2411    False\n",
       "2412    False\n",
       "2413    False\n",
       "2414    False\n",
       "2415    False\n",
       "Name: ABV, Length: 2416, dtype: bool"
      ]
     },
     "execution_count": 17,
     "metadata": {},
     "output_type": "execute_result"
    }
   ],
   "source": [
    "df.ABV.isnull()"
   ]
  },
  {
   "cell_type": "code",
   "execution_count": 18,
   "metadata": {},
   "outputs": [
    {
     "data": {
      "text/plain": [
       "np.int64(68)"
      ]
     },
     "execution_count": 18,
     "metadata": {},
     "output_type": "execute_result"
    }
   ],
   "source": [
    "df.ABV.isnull().sum()"
   ]
  },
  {
   "cell_type": "code",
   "execution_count": 19,
   "metadata": {},
   "outputs": [
    {
     "data": {
      "text/plain": [
       "ABV\n",
       "False    2348\n",
       "True       68\n",
       "Name: count, dtype: int64"
      ]
     },
     "execution_count": 19,
     "metadata": {},
     "output_type": "execute_result"
    }
   ],
   "source": [
    "df.ABV.isnull().value_counts()"
   ]
  },
  {
   "cell_type": "code",
   "execution_count": 20,
   "metadata": {},
   "outputs": [],
   "source": [
    "# We're missing ABV for 68 of the beers"
   ]
  },
  {
   "cell_type": "markdown",
   "metadata": {},
   "source": [
    "# Looking at location\n",
    "\n",
    "Brooklyn used to produce 80% of the country's beer! Let's see if it's still true."
   ]
  },
  {
   "cell_type": "markdown",
   "metadata": {},
   "source": [
    "## What are the top 10 cities in the US for canned craft beer?"
   ]
  },
  {
   "cell_type": "code",
   "execution_count": 21,
   "metadata": {},
   "outputs": [
    {
     "data": {
      "text/plain": [
       "Location\n",
       "Grand Rapids, MI    66\n",
       "Chicago, IL         55\n",
       "Portland, OR        52\n",
       "Indianapolis, IN    43\n",
       "San Diego, CA       42\n",
       "Boulder, CO         41\n",
       "Denver, CO          40\n",
       "Brooklyn, NY        38\n",
       "Seattle, WA         35\n",
       "Longmont, CO        33\n",
       "Name: count, dtype: int64"
      ]
     },
     "execution_count": 21,
     "metadata": {},
     "output_type": "execute_result"
    }
   ],
   "source": [
    "df['Location'].value_counts(ascending=False).head(10)"
   ]
  },
  {
   "cell_type": "markdown",
   "metadata": {},
   "source": [
    "## List all of the beer from Brooklyn, NY"
   ]
  },
  {
   "cell_type": "code",
   "execution_count": 23,
   "metadata": {},
   "outputs": [
    {
     "data": {
      "text/html": [
       "<div>\n",
       "<style scoped>\n",
       "    .dataframe tbody tr th:only-of-type {\n",
       "        vertical-align: middle;\n",
       "    }\n",
       "\n",
       "    .dataframe tbody tr th {\n",
       "        vertical-align: top;\n",
       "    }\n",
       "\n",
       "    .dataframe thead th {\n",
       "        text-align: right;\n",
       "    }\n",
       "</style>\n",
       "<table border=\"1\" class=\"dataframe\">\n",
       "  <thead>\n",
       "    <tr style=\"text-align: right;\">\n",
       "      <th></th>\n",
       "      <th>Beer</th>\n",
       "      <th>Brewery</th>\n",
       "      <th>Location</th>\n",
       "      <th>Style</th>\n",
       "      <th>Size</th>\n",
       "      <th>ABV</th>\n",
       "      <th>IBUs</th>\n",
       "    </tr>\n",
       "  </thead>\n",
       "  <tbody>\n",
       "    <tr>\n",
       "      <th>115</th>\n",
       "      <td>4Beans</td>\n",
       "      <td>Sixpoint Craft Ales</td>\n",
       "      <td>Brooklyn, NY</td>\n",
       "      <td>Baltic Porter</td>\n",
       "      <td>12 oz.</td>\n",
       "      <td>10.0</td>\n",
       "      <td>52.0</td>\n",
       "    </tr>\n",
       "    <tr>\n",
       "      <th>210</th>\n",
       "      <td>Jammer</td>\n",
       "      <td>Sixpoint Craft Ales</td>\n",
       "      <td>Brooklyn, NY</td>\n",
       "      <td>Gose</td>\n",
       "      <td>12 oz. Slimline</td>\n",
       "      <td>4.2</td>\n",
       "      <td>16.0</td>\n",
       "    </tr>\n",
       "    <tr>\n",
       "      <th>246</th>\n",
       "      <td>Abigale</td>\n",
       "      <td>Sixpoint Craft Ales</td>\n",
       "      <td>Brooklyn, NY</td>\n",
       "      <td>Belgian Pale Ale</td>\n",
       "      <td>12 oz.</td>\n",
       "      <td>8.0</td>\n",
       "      <td>NaN</td>\n",
       "    </tr>\n",
       "    <tr>\n",
       "      <th>404</th>\n",
       "      <td>Nomader Weiss</td>\n",
       "      <td>Evil Twin Brewing</td>\n",
       "      <td>Brooklyn, NY</td>\n",
       "      <td>Berliner Weissbier</td>\n",
       "      <td>12 oz.</td>\n",
       "      <td>4.0</td>\n",
       "      <td>NaN</td>\n",
       "    </tr>\n",
       "    <tr>\n",
       "      <th>421</th>\n",
       "      <td>Rad</td>\n",
       "      <td>Sixpoint Craft Ales</td>\n",
       "      <td>Brooklyn, NY</td>\n",
       "      <td>Fruit / Vegetable Beer</td>\n",
       "      <td>16 oz.</td>\n",
       "      <td>3.2</td>\n",
       "      <td>7.0</td>\n",
       "    </tr>\n",
       "    <tr>\n",
       "      <th>439</th>\n",
       "      <td>Molotov Lite</td>\n",
       "      <td>Evil Twin Brewing</td>\n",
       "      <td>Brooklyn, NY</td>\n",
       "      <td>American Double / Imperial IPA</td>\n",
       "      <td>16 oz.</td>\n",
       "      <td>8.5</td>\n",
       "      <td>NaN</td>\n",
       "    </tr>\n",
       "    <tr>\n",
       "      <th>588</th>\n",
       "      <td>Bengali</td>\n",
       "      <td>Sixpoint Craft Ales</td>\n",
       "      <td>Brooklyn, NY</td>\n",
       "      <td>American IPA</td>\n",
       "      <td>24 oz. \"Silo Can\"</td>\n",
       "      <td>6.5</td>\n",
       "      <td>62.0</td>\n",
       "    </tr>\n",
       "    <tr>\n",
       "      <th>713</th>\n",
       "      <td>Sensi Harvest</td>\n",
       "      <td>Sixpoint Craft Ales</td>\n",
       "      <td>Brooklyn, NY</td>\n",
       "      <td>American Pale Ale (APA)</td>\n",
       "      <td>12 oz.</td>\n",
       "      <td>4.7</td>\n",
       "      <td>50.0</td>\n",
       "    </tr>\n",
       "    <tr>\n",
       "      <th>969</th>\n",
       "      <td>Hi-Res</td>\n",
       "      <td>Sixpoint Craft Ales</td>\n",
       "      <td>Brooklyn, NY</td>\n",
       "      <td>American Double / Imperial IPA</td>\n",
       "      <td>12 oz.</td>\n",
       "      <td>9.9</td>\n",
       "      <td>111.0</td>\n",
       "    </tr>\n",
       "    <tr>\n",
       "      <th>987</th>\n",
       "      <td>KelSo Nut Brown Lager</td>\n",
       "      <td>KelSo Beer Company</td>\n",
       "      <td>Brooklyn, NY</td>\n",
       "      <td>Euro Dark Lager</td>\n",
       "      <td>12 oz.</td>\n",
       "      <td>5.7</td>\n",
       "      <td>19.0</td>\n",
       "    </tr>\n",
       "    <tr>\n",
       "      <th>1057</th>\n",
       "      <td>Global Warmer</td>\n",
       "      <td>Sixpoint Craft Ales</td>\n",
       "      <td>Brooklyn, NY</td>\n",
       "      <td>American Strong Ale</td>\n",
       "      <td>12 oz.</td>\n",
       "      <td>7.0</td>\n",
       "      <td>70.0</td>\n",
       "    </tr>\n",
       "    <tr>\n",
       "      <th>1074</th>\n",
       "      <td>Autumnation (2013)</td>\n",
       "      <td>Sixpoint Craft Ales</td>\n",
       "      <td>Brooklyn, NY</td>\n",
       "      <td>American IPA</td>\n",
       "      <td>16 oz.</td>\n",
       "      <td>6.7</td>\n",
       "      <td>74.0</td>\n",
       "    </tr>\n",
       "    <tr>\n",
       "      <th>1093</th>\n",
       "      <td>KelSo India Pale Ale</td>\n",
       "      <td>KelSo Beer Company</td>\n",
       "      <td>Brooklyn, NY</td>\n",
       "      <td>American IPA</td>\n",
       "      <td>12 oz.</td>\n",
       "      <td>6.0</td>\n",
       "      <td>64.0</td>\n",
       "    </tr>\n",
       "    <tr>\n",
       "      <th>1267</th>\n",
       "      <td>The Crisp</td>\n",
       "      <td>Sixpoint Craft Ales</td>\n",
       "      <td>Brooklyn, NY</td>\n",
       "      <td>German Pilsener</td>\n",
       "      <td>16 oz.</td>\n",
       "      <td>5.4</td>\n",
       "      <td>42.0</td>\n",
       "    </tr>\n",
       "    <tr>\n",
       "      <th>1268</th>\n",
       "      <td>Sweet Action</td>\n",
       "      <td>Sixpoint Craft Ales</td>\n",
       "      <td>Brooklyn, NY</td>\n",
       "      <td>Cream Ale</td>\n",
       "      <td>16 oz.</td>\n",
       "      <td>5.2</td>\n",
       "      <td>34.0</td>\n",
       "    </tr>\n",
       "    <tr>\n",
       "      <th>1269</th>\n",
       "      <td>Righteous Ale</td>\n",
       "      <td>Sixpoint Craft Ales</td>\n",
       "      <td>Brooklyn, NY</td>\n",
       "      <td>Rye Beer</td>\n",
       "      <td>16 oz.</td>\n",
       "      <td>6.3</td>\n",
       "      <td>57.0</td>\n",
       "    </tr>\n",
       "    <tr>\n",
       "      <th>1270</th>\n",
       "      <td>Bengali Tiger</td>\n",
       "      <td>Sixpoint Craft Ales</td>\n",
       "      <td>Brooklyn, NY</td>\n",
       "      <td>American IPA</td>\n",
       "      <td>16 oz.</td>\n",
       "      <td>6.4</td>\n",
       "      <td>62.0</td>\n",
       "    </tr>\n",
       "    <tr>\n",
       "      <th>1305</th>\n",
       "      <td>KelSo Pilsner</td>\n",
       "      <td>KelSo Beer Company</td>\n",
       "      <td>Brooklyn, NY</td>\n",
       "      <td>Czech Pilsener</td>\n",
       "      <td>12 oz.</td>\n",
       "      <td>5.5</td>\n",
       "      <td>23.0</td>\n",
       "    </tr>\n",
       "    <tr>\n",
       "      <th>1365</th>\n",
       "      <td>Hipster Ale (Two Roads Brewing)</td>\n",
       "      <td>Evil Twin Brewing</td>\n",
       "      <td>Brooklyn, NY</td>\n",
       "      <td>American Pale Ale (APA)</td>\n",
       "      <td>12 oz.</td>\n",
       "      <td>5.5</td>\n",
       "      <td>NaN</td>\n",
       "    </tr>\n",
       "    <tr>\n",
       "      <th>1366</th>\n",
       "      <td>Bikini Beer</td>\n",
       "      <td>Evil Twin Brewing</td>\n",
       "      <td>Brooklyn, NY</td>\n",
       "      <td>American IPA</td>\n",
       "      <td>12 oz.</td>\n",
       "      <td>2.7</td>\n",
       "      <td>NaN</td>\n",
       "    </tr>\n",
       "    <tr>\n",
       "      <th>1373</th>\n",
       "      <td>East India Pale Ale</td>\n",
       "      <td>Brooklyn Brewery</td>\n",
       "      <td>Brooklyn, NY</td>\n",
       "      <td>English India Pale Ale (IPA)</td>\n",
       "      <td>16 oz.</td>\n",
       "      <td>6.8</td>\n",
       "      <td>47.0</td>\n",
       "    </tr>\n",
       "    <tr>\n",
       "      <th>1624</th>\n",
       "      <td>3Beans</td>\n",
       "      <td>Sixpoint Craft Ales</td>\n",
       "      <td>Brooklyn, NY</td>\n",
       "      <td>Baltic Porter</td>\n",
       "      <td>12 oz.</td>\n",
       "      <td>9.9</td>\n",
       "      <td>85.0</td>\n",
       "    </tr>\n",
       "    <tr>\n",
       "      <th>1836</th>\n",
       "      <td>Brownstone</td>\n",
       "      <td>Sixpoint Craft Ales</td>\n",
       "      <td>Brooklyn, NY</td>\n",
       "      <td>American Brown Ale</td>\n",
       "      <td>16 oz.</td>\n",
       "      <td>5.9</td>\n",
       "      <td>47.0</td>\n",
       "    </tr>\n",
       "    <tr>\n",
       "      <th>1857</th>\n",
       "      <td>Brooklyn Summer Ale</td>\n",
       "      <td>Brooklyn Brewery</td>\n",
       "      <td>Brooklyn, NY</td>\n",
       "      <td>English Pale Mild Ale</td>\n",
       "      <td>12 oz.</td>\n",
       "      <td>4.5</td>\n",
       "      <td>NaN</td>\n",
       "    </tr>\n",
       "    <tr>\n",
       "      <th>1962</th>\n",
       "      <td>Hipster Ale (Westbrook Brewing)</td>\n",
       "      <td>Evil Twin Brewing</td>\n",
       "      <td>Brooklyn, NY</td>\n",
       "      <td>American Pale Ale (APA)</td>\n",
       "      <td>12 oz.</td>\n",
       "      <td>5.5</td>\n",
       "      <td>NaN</td>\n",
       "    </tr>\n",
       "    <tr>\n",
       "      <th>1970</th>\n",
       "      <td>Apollo</td>\n",
       "      <td>Sixpoint Craft Ales</td>\n",
       "      <td>Brooklyn, NY</td>\n",
       "      <td>American Pale Wheat Ale</td>\n",
       "      <td>16 oz.</td>\n",
       "      <td>5.2</td>\n",
       "      <td>11.0</td>\n",
       "    </tr>\n",
       "    <tr>\n",
       "      <th>1971</th>\n",
       "      <td>Harbinger</td>\n",
       "      <td>Sixpoint Craft Ales</td>\n",
       "      <td>Brooklyn, NY</td>\n",
       "      <td>Saison / Farmhouse Ale</td>\n",
       "      <td>16 oz.</td>\n",
       "      <td>4.9</td>\n",
       "      <td>35.0</td>\n",
       "    </tr>\n",
       "    <tr>\n",
       "      <th>1972</th>\n",
       "      <td>Resin</td>\n",
       "      <td>Sixpoint Craft Ales</td>\n",
       "      <td>Brooklyn, NY</td>\n",
       "      <td>American Double / Imperial IPA</td>\n",
       "      <td>12 oz.</td>\n",
       "      <td>9.1</td>\n",
       "      <td>103.0</td>\n",
       "    </tr>\n",
       "    <tr>\n",
       "      <th>2027</th>\n",
       "      <td>East India Pale Ale</td>\n",
       "      <td>Brooklyn Brewery</td>\n",
       "      <td>Brooklyn, NY</td>\n",
       "      <td>English India Pale Ale (IPA)</td>\n",
       "      <td>12 oz.</td>\n",
       "      <td>6.8</td>\n",
       "      <td>47.0</td>\n",
       "    </tr>\n",
       "    <tr>\n",
       "      <th>2062</th>\n",
       "      <td>Diesel</td>\n",
       "      <td>Sixpoint Craft Ales</td>\n",
       "      <td>Brooklyn, NY</td>\n",
       "      <td>American Stout</td>\n",
       "      <td>16 oz.</td>\n",
       "      <td>6.3</td>\n",
       "      <td>69.0</td>\n",
       "    </tr>\n",
       "    <tr>\n",
       "      <th>2074</th>\n",
       "      <td>Autumnation (2011-12) (2011)</td>\n",
       "      <td>Sixpoint Craft Ales</td>\n",
       "      <td>Brooklyn, NY</td>\n",
       "      <td>Pumpkin Ale</td>\n",
       "      <td>16 oz.</td>\n",
       "      <td>6.0</td>\n",
       "      <td>48.0</td>\n",
       "    </tr>\n",
       "    <tr>\n",
       "      <th>2140</th>\n",
       "      <td>The Crisp (2011)</td>\n",
       "      <td>Sixpoint Craft Ales</td>\n",
       "      <td>Brooklyn, NY</td>\n",
       "      <td>German Pilsener</td>\n",
       "      <td>16 oz.</td>\n",
       "      <td>5.4</td>\n",
       "      <td>42.0</td>\n",
       "    </tr>\n",
       "    <tr>\n",
       "      <th>2141</th>\n",
       "      <td>Sweet Action (2011)</td>\n",
       "      <td>Sixpoint Craft Ales</td>\n",
       "      <td>Brooklyn, NY</td>\n",
       "      <td>Cream Ale</td>\n",
       "      <td>16 oz.</td>\n",
       "      <td>5.2</td>\n",
       "      <td>34.0</td>\n",
       "    </tr>\n",
       "    <tr>\n",
       "      <th>2142</th>\n",
       "      <td>Righteous Ale (2011)</td>\n",
       "      <td>Sixpoint Craft Ales</td>\n",
       "      <td>Brooklyn, NY</td>\n",
       "      <td>Rye Beer</td>\n",
       "      <td>16 oz.</td>\n",
       "      <td>6.3</td>\n",
       "      <td>57.0</td>\n",
       "    </tr>\n",
       "    <tr>\n",
       "      <th>2143</th>\n",
       "      <td>Bengali Tiger (2011)</td>\n",
       "      <td>Sixpoint Craft Ales</td>\n",
       "      <td>Brooklyn, NY</td>\n",
       "      <td>American IPA</td>\n",
       "      <td>16 oz.</td>\n",
       "      <td>6.4</td>\n",
       "      <td>62.0</td>\n",
       "    </tr>\n",
       "    <tr>\n",
       "      <th>2219</th>\n",
       "      <td>Brooklyn Summer Ale (2011)</td>\n",
       "      <td>Brooklyn Brewery</td>\n",
       "      <td>Brooklyn, NY</td>\n",
       "      <td>English Pale Mild Ale</td>\n",
       "      <td>12 oz.</td>\n",
       "      <td>4.5</td>\n",
       "      <td>NaN</td>\n",
       "    </tr>\n",
       "    <tr>\n",
       "      <th>2350</th>\n",
       "      <td>Brooklyn Lager (16 oz.)</td>\n",
       "      <td>Brooklyn Brewery</td>\n",
       "      <td>Brooklyn, NY</td>\n",
       "      <td>American Amber / Red Lager</td>\n",
       "      <td>16 oz.</td>\n",
       "      <td>5.2</td>\n",
       "      <td>NaN</td>\n",
       "    </tr>\n",
       "    <tr>\n",
       "      <th>2351</th>\n",
       "      <td>Brooklyn Lager (12 oz.)</td>\n",
       "      <td>Brooklyn Brewery</td>\n",
       "      <td>Brooklyn, NY</td>\n",
       "      <td>American Amber / Red Lager</td>\n",
       "      <td>12 oz.</td>\n",
       "      <td>5.2</td>\n",
       "      <td>NaN</td>\n",
       "    </tr>\n",
       "  </tbody>\n",
       "</table>\n",
       "</div>"
      ],
      "text/plain": [
       "                                 Beer              Brewery      Location  \\\n",
       "115                            4Beans  Sixpoint Craft Ales  Brooklyn, NY   \n",
       "210                            Jammer  Sixpoint Craft Ales  Brooklyn, NY   \n",
       "246                           Abigale  Sixpoint Craft Ales  Brooklyn, NY   \n",
       "404                     Nomader Weiss    Evil Twin Brewing  Brooklyn, NY   \n",
       "421                               Rad  Sixpoint Craft Ales  Brooklyn, NY   \n",
       "439                      Molotov Lite    Evil Twin Brewing  Brooklyn, NY   \n",
       "588                           Bengali  Sixpoint Craft Ales  Brooklyn, NY   \n",
       "713                     Sensi Harvest  Sixpoint Craft Ales  Brooklyn, NY   \n",
       "969                            Hi-Res  Sixpoint Craft Ales  Brooklyn, NY   \n",
       "987             KelSo Nut Brown Lager   KelSo Beer Company  Brooklyn, NY   \n",
       "1057                    Global Warmer  Sixpoint Craft Ales  Brooklyn, NY   \n",
       "1074               Autumnation (2013)  Sixpoint Craft Ales  Brooklyn, NY   \n",
       "1093             KelSo India Pale Ale   KelSo Beer Company  Brooklyn, NY   \n",
       "1267                        The Crisp  Sixpoint Craft Ales  Brooklyn, NY   \n",
       "1268                     Sweet Action  Sixpoint Craft Ales  Brooklyn, NY   \n",
       "1269                    Righteous Ale  Sixpoint Craft Ales  Brooklyn, NY   \n",
       "1270                    Bengali Tiger  Sixpoint Craft Ales  Brooklyn, NY   \n",
       "1305                    KelSo Pilsner   KelSo Beer Company  Brooklyn, NY   \n",
       "1365  Hipster Ale (Two Roads Brewing)    Evil Twin Brewing  Brooklyn, NY   \n",
       "1366                      Bikini Beer    Evil Twin Brewing  Brooklyn, NY   \n",
       "1373              East India Pale Ale     Brooklyn Brewery  Brooklyn, NY   \n",
       "1624                           3Beans  Sixpoint Craft Ales  Brooklyn, NY   \n",
       "1836                       Brownstone  Sixpoint Craft Ales  Brooklyn, NY   \n",
       "1857              Brooklyn Summer Ale     Brooklyn Brewery  Brooklyn, NY   \n",
       "1962  Hipster Ale (Westbrook Brewing)    Evil Twin Brewing  Brooklyn, NY   \n",
       "1970                           Apollo  Sixpoint Craft Ales  Brooklyn, NY   \n",
       "1971                        Harbinger  Sixpoint Craft Ales  Brooklyn, NY   \n",
       "1972                            Resin  Sixpoint Craft Ales  Brooklyn, NY   \n",
       "2027              East India Pale Ale     Brooklyn Brewery  Brooklyn, NY   \n",
       "2062                           Diesel  Sixpoint Craft Ales  Brooklyn, NY   \n",
       "2074     Autumnation (2011-12) (2011)  Sixpoint Craft Ales  Brooklyn, NY   \n",
       "2140                 The Crisp (2011)  Sixpoint Craft Ales  Brooklyn, NY   \n",
       "2141              Sweet Action (2011)  Sixpoint Craft Ales  Brooklyn, NY   \n",
       "2142             Righteous Ale (2011)  Sixpoint Craft Ales  Brooklyn, NY   \n",
       "2143             Bengali Tiger (2011)  Sixpoint Craft Ales  Brooklyn, NY   \n",
       "2219       Brooklyn Summer Ale (2011)     Brooklyn Brewery  Brooklyn, NY   \n",
       "2350          Brooklyn Lager (16 oz.)     Brooklyn Brewery  Brooklyn, NY   \n",
       "2351          Brooklyn Lager (12 oz.)     Brooklyn Brewery  Brooklyn, NY   \n",
       "\n",
       "                               Style               Size   ABV   IBUs  \n",
       "115                    Baltic Porter             12 oz.  10.0   52.0  \n",
       "210                             Gose    12 oz. Slimline   4.2   16.0  \n",
       "246                 Belgian Pale Ale             12 oz.   8.0    NaN  \n",
       "404               Berliner Weissbier             12 oz.   4.0    NaN  \n",
       "421           Fruit / Vegetable Beer             16 oz.   3.2    7.0  \n",
       "439   American Double / Imperial IPA             16 oz.   8.5    NaN  \n",
       "588                     American IPA  24 oz. \"Silo Can\"   6.5   62.0  \n",
       "713          American Pale Ale (APA)             12 oz.   4.7   50.0  \n",
       "969   American Double / Imperial IPA             12 oz.   9.9  111.0  \n",
       "987                  Euro Dark Lager             12 oz.   5.7   19.0  \n",
       "1057             American Strong Ale             12 oz.   7.0   70.0  \n",
       "1074                    American IPA             16 oz.   6.7   74.0  \n",
       "1093                    American IPA             12 oz.   6.0   64.0  \n",
       "1267                 German Pilsener             16 oz.   5.4   42.0  \n",
       "1268                       Cream Ale             16 oz.   5.2   34.0  \n",
       "1269                        Rye Beer             16 oz.   6.3   57.0  \n",
       "1270                    American IPA             16 oz.   6.4   62.0  \n",
       "1305                  Czech Pilsener             12 oz.   5.5   23.0  \n",
       "1365         American Pale Ale (APA)             12 oz.   5.5    NaN  \n",
       "1366                    American IPA             12 oz.   2.7    NaN  \n",
       "1373    English India Pale Ale (IPA)             16 oz.   6.8   47.0  \n",
       "1624                   Baltic Porter             12 oz.   9.9   85.0  \n",
       "1836              American Brown Ale             16 oz.   5.9   47.0  \n",
       "1857           English Pale Mild Ale             12 oz.   4.5    NaN  \n",
       "1962         American Pale Ale (APA)             12 oz.   5.5    NaN  \n",
       "1970         American Pale Wheat Ale             16 oz.   5.2   11.0  \n",
       "1971          Saison / Farmhouse Ale             16 oz.   4.9   35.0  \n",
       "1972  American Double / Imperial IPA             12 oz.   9.1  103.0  \n",
       "2027    English India Pale Ale (IPA)             12 oz.   6.8   47.0  \n",
       "2062                  American Stout             16 oz.   6.3   69.0  \n",
       "2074                     Pumpkin Ale             16 oz.   6.0   48.0  \n",
       "2140                 German Pilsener             16 oz.   5.4   42.0  \n",
       "2141                       Cream Ale             16 oz.   5.2   34.0  \n",
       "2142                        Rye Beer             16 oz.   6.3   57.0  \n",
       "2143                    American IPA             16 oz.   6.4   62.0  \n",
       "2219           English Pale Mild Ale             12 oz.   4.5    NaN  \n",
       "2350      American Amber / Red Lager             16 oz.   5.2    NaN  \n",
       "2351      American Amber / Red Lager             12 oz.   5.2    NaN  "
      ]
     },
     "execution_count": 23,
     "metadata": {},
     "output_type": "execute_result"
    }
   ],
   "source": [
    "df[df['Location'] == 'Brooklyn, NY']"
   ]
  },
  {
   "cell_type": "code",
   "execution_count": 24,
   "metadata": {},
   "outputs": [
    {
     "data": {
      "text/plain": [
       "['4Beans',\n",
       " 'Jammer',\n",
       " 'Abigale',\n",
       " 'Nomader Weiss',\n",
       " 'Rad',\n",
       " 'Molotov Lite',\n",
       " 'Bengali',\n",
       " 'Sensi Harvest',\n",
       " 'Hi-Res',\n",
       " 'KelSo Nut Brown Lager',\n",
       " 'Global Warmer',\n",
       " 'Autumnation (2013)',\n",
       " 'KelSo India Pale Ale',\n",
       " 'The Crisp',\n",
       " 'Sweet Action',\n",
       " 'Righteous Ale',\n",
       " 'Bengali Tiger',\n",
       " 'KelSo Pilsner',\n",
       " 'Hipster Ale (Two Roads Brewing)',\n",
       " 'Bikini Beer',\n",
       " 'East India Pale Ale',\n",
       " '3Beans',\n",
       " 'Brownstone',\n",
       " 'Brooklyn Summer Ale',\n",
       " 'Hipster Ale (Westbrook Brewing)',\n",
       " 'Apollo',\n",
       " 'Harbinger',\n",
       " 'Resin',\n",
       " 'East India Pale Ale',\n",
       " 'Diesel',\n",
       " 'Autumnation (2011-12) (2011)',\n",
       " 'The Crisp (2011)',\n",
       " 'Sweet Action (2011)',\n",
       " 'Righteous Ale (2011)',\n",
       " 'Bengali Tiger (2011)',\n",
       " 'Brooklyn Summer Ale (2011)',\n",
       " 'Brooklyn Lager (16 oz.)',\n",
       " 'Brooklyn Lager (12 oz.)']"
      ]
     },
     "execution_count": 24,
     "metadata": {},
     "output_type": "execute_result"
    }
   ],
   "source": [
    "df[df['Location'] == 'Brooklyn, NY'].Beer.tolist()"
   ]
  },
  {
   "cell_type": "markdown",
   "metadata": {},
   "source": [
    "## What brewery in Brooklyn puts out the most different cans of beer?"
   ]
  },
  {
   "cell_type": "code",
   "execution_count": 25,
   "metadata": {},
   "outputs": [
    {
     "data": {
      "text/plain": [
       "Brewery\n",
       "Sixpoint Craft Ales    24\n",
       "Name: Beer, dtype: int64"
      ]
     },
     "execution_count": 25,
     "metadata": {},
     "output_type": "execute_result"
    }
   ],
   "source": [
    "# df[df['Location'] == 'Brooklyn, NY'].groupby('Brewery').sort_values(ascending=False).head(1)\n",
    "\n",
    "df[df['Location'] == 'Brooklyn, NY'].groupby('Brewery')['Beer'].nunique().sort_values(ascending=False).head(1)"
   ]
  },
  {
   "cell_type": "markdown",
   "metadata": {},
   "source": [
    "## What are the five most common styles of beer produced by Sixpoint?"
   ]
  },
  {
   "cell_type": "code",
   "execution_count": 26,
   "metadata": {},
   "outputs": [
    {
     "data": {
      "text/plain": [
       "Style\n",
       "American IPA                      4\n",
       "American Double / Imperial IPA    2\n",
       "Baltic Porter                     2\n",
       "Cream Ale                         2\n",
       "German Pilsener                   2\n",
       "Name: Beer, dtype: int64"
      ]
     },
     "execution_count": 26,
     "metadata": {},
     "output_type": "execute_result"
    }
   ],
   "source": [
    "df[df['Brewery'] == 'Sixpoint Craft Ales'].groupby('Style')['Beer'].nunique().sort_values(ascending=False).head()"
   ]
  },
  {
   "cell_type": "markdown",
   "metadata": {},
   "source": [
    "## List all of the breweries in New York state.\n",
    "\n",
    "- *Tip: We want to match *part* of the `Location` column, but not all of it.*\n",
    "- *Tip: Watch out for `NaN` values! You might be close, but you'll need to pass an extra parameter to make it work without an error.*\n",
    "- *Tip: If you want to be extra fancy, you can create a new column with just the state abbreviation and then filter on that.*"
   ]
  },
  {
   "cell_type": "code",
   "execution_count": 27,
   "metadata": {},
   "outputs": [
    {
     "data": {
      "text/html": [
       "<div>\n",
       "<style scoped>\n",
       "    .dataframe tbody tr th:only-of-type {\n",
       "        vertical-align: middle;\n",
       "    }\n",
       "\n",
       "    .dataframe tbody tr th {\n",
       "        vertical-align: top;\n",
       "    }\n",
       "\n",
       "    .dataframe thead th {\n",
       "        text-align: right;\n",
       "    }\n",
       "</style>\n",
       "<table border=\"1\" class=\"dataframe\">\n",
       "  <thead>\n",
       "    <tr style=\"text-align: right;\">\n",
       "      <th></th>\n",
       "      <th>Beer</th>\n",
       "      <th>Brewery</th>\n",
       "      <th>Location</th>\n",
       "      <th>Style</th>\n",
       "      <th>Size</th>\n",
       "      <th>ABV</th>\n",
       "      <th>IBUs</th>\n",
       "    </tr>\n",
       "  </thead>\n",
       "  <tbody>\n",
       "    <tr>\n",
       "      <th>115</th>\n",
       "      <td>4Beans</td>\n",
       "      <td>Sixpoint Craft Ales</td>\n",
       "      <td>Brooklyn, NY</td>\n",
       "      <td>Baltic Porter</td>\n",
       "      <td>12 oz.</td>\n",
       "      <td>10.0</td>\n",
       "      <td>52.0</td>\n",
       "    </tr>\n",
       "    <tr>\n",
       "      <th>210</th>\n",
       "      <td>Jammer</td>\n",
       "      <td>Sixpoint Craft Ales</td>\n",
       "      <td>Brooklyn, NY</td>\n",
       "      <td>Gose</td>\n",
       "      <td>12 oz. Slimline</td>\n",
       "      <td>4.2</td>\n",
       "      <td>16.0</td>\n",
       "    </tr>\n",
       "    <tr>\n",
       "      <th>246</th>\n",
       "      <td>Abigale</td>\n",
       "      <td>Sixpoint Craft Ales</td>\n",
       "      <td>Brooklyn, NY</td>\n",
       "      <td>Belgian Pale Ale</td>\n",
       "      <td>12 oz.</td>\n",
       "      <td>8.0</td>\n",
       "      <td>NaN</td>\n",
       "    </tr>\n",
       "    <tr>\n",
       "      <th>404</th>\n",
       "      <td>Nomader Weiss</td>\n",
       "      <td>Evil Twin Brewing</td>\n",
       "      <td>Brooklyn, NY</td>\n",
       "      <td>Berliner Weissbier</td>\n",
       "      <td>12 oz.</td>\n",
       "      <td>4.0</td>\n",
       "      <td>NaN</td>\n",
       "    </tr>\n",
       "    <tr>\n",
       "      <th>421</th>\n",
       "      <td>Rad</td>\n",
       "      <td>Sixpoint Craft Ales</td>\n",
       "      <td>Brooklyn, NY</td>\n",
       "      <td>Fruit / Vegetable Beer</td>\n",
       "      <td>16 oz.</td>\n",
       "      <td>3.2</td>\n",
       "      <td>7.0</td>\n",
       "    </tr>\n",
       "    <tr>\n",
       "      <th>...</th>\n",
       "      <td>...</td>\n",
       "      <td>...</td>\n",
       "      <td>...</td>\n",
       "      <td>...</td>\n",
       "      <td>...</td>\n",
       "      <td>...</td>\n",
       "      <td>...</td>\n",
       "    </tr>\n",
       "    <tr>\n",
       "      <th>2351</th>\n",
       "      <td>Brooklyn Lager (12 oz.)</td>\n",
       "      <td>Brooklyn Brewery</td>\n",
       "      <td>Brooklyn, NY</td>\n",
       "      <td>American Amber / Red Lager</td>\n",
       "      <td>12 oz.</td>\n",
       "      <td>5.2</td>\n",
       "      <td>NaN</td>\n",
       "    </tr>\n",
       "    <tr>\n",
       "      <th>2364</th>\n",
       "      <td>Heinnieweisse Weissebier</td>\n",
       "      <td>Butternuts Beer and Ale</td>\n",
       "      <td>Garrattsville, NY</td>\n",
       "      <td>Hefeweizen</td>\n",
       "      <td>12 oz.</td>\n",
       "      <td>4.9</td>\n",
       "      <td>NaN</td>\n",
       "    </tr>\n",
       "    <tr>\n",
       "      <th>2365</th>\n",
       "      <td>Snapperhead IPA</td>\n",
       "      <td>Butternuts Beer and Ale</td>\n",
       "      <td>Garrattsville, NY</td>\n",
       "      <td>American IPA</td>\n",
       "      <td>12 oz.</td>\n",
       "      <td>6.8</td>\n",
       "      <td>NaN</td>\n",
       "    </tr>\n",
       "    <tr>\n",
       "      <th>2366</th>\n",
       "      <td>Moo Thunder Stout</td>\n",
       "      <td>Butternuts Beer and Ale</td>\n",
       "      <td>Garrattsville, NY</td>\n",
       "      <td>Milk / Sweet Stout</td>\n",
       "      <td>12 oz.</td>\n",
       "      <td>4.9</td>\n",
       "      <td>NaN</td>\n",
       "    </tr>\n",
       "    <tr>\n",
       "      <th>2367</th>\n",
       "      <td>Porkslap Pale Ale</td>\n",
       "      <td>Butternuts Beer and Ale</td>\n",
       "      <td>Garrattsville, NY</td>\n",
       "      <td>American Pale Ale (APA)</td>\n",
       "      <td>12 oz.</td>\n",
       "      <td>4.3</td>\n",
       "      <td>NaN</td>\n",
       "    </tr>\n",
       "  </tbody>\n",
       "</table>\n",
       "<p>74 rows × 7 columns</p>\n",
       "</div>"
      ],
      "text/plain": [
       "                          Beer                  Brewery           Location  \\\n",
       "115                     4Beans      Sixpoint Craft Ales       Brooklyn, NY   \n",
       "210                     Jammer      Sixpoint Craft Ales       Brooklyn, NY   \n",
       "246                    Abigale      Sixpoint Craft Ales       Brooklyn, NY   \n",
       "404              Nomader Weiss        Evil Twin Brewing       Brooklyn, NY   \n",
       "421                        Rad      Sixpoint Craft Ales       Brooklyn, NY   \n",
       "...                        ...                      ...                ...   \n",
       "2351   Brooklyn Lager (12 oz.)         Brooklyn Brewery       Brooklyn, NY   \n",
       "2364  Heinnieweisse Weissebier  Butternuts Beer and Ale  Garrattsville, NY   \n",
       "2365           Snapperhead IPA  Butternuts Beer and Ale  Garrattsville, NY   \n",
       "2366         Moo Thunder Stout  Butternuts Beer and Ale  Garrattsville, NY   \n",
       "2367         Porkslap Pale Ale  Butternuts Beer and Ale  Garrattsville, NY   \n",
       "\n",
       "                           Style             Size   ABV  IBUs  \n",
       "115                Baltic Porter           12 oz.  10.0  52.0  \n",
       "210                         Gose  12 oz. Slimline   4.2  16.0  \n",
       "246             Belgian Pale Ale           12 oz.   8.0   NaN  \n",
       "404           Berliner Weissbier           12 oz.   4.0   NaN  \n",
       "421       Fruit / Vegetable Beer           16 oz.   3.2   7.0  \n",
       "...                          ...              ...   ...   ...  \n",
       "2351  American Amber / Red Lager           12 oz.   5.2   NaN  \n",
       "2364                  Hefeweizen           12 oz.   4.9   NaN  \n",
       "2365                American IPA           12 oz.   6.8   NaN  \n",
       "2366          Milk / Sweet Stout           12 oz.   4.9   NaN  \n",
       "2367     American Pale Ale (APA)           12 oz.   4.3   NaN  \n",
       "\n",
       "[74 rows x 7 columns]"
      ]
     },
     "execution_count": 27,
     "metadata": {},
     "output_type": "execute_result"
    }
   ],
   "source": [
    "df[df['Location'].str.endswith('NY', na=False)]"
   ]
  },
  {
   "cell_type": "code",
   "execution_count": 28,
   "metadata": {},
   "outputs": [
    {
     "data": {
      "text/plain": [
       "['Sixpoint Craft Ales',\n",
       " 'Evil Twin Brewing',\n",
       " 'Chatham Brewing',\n",
       " 'Newburgh Brewing Company',\n",
       " 'Southampton Publick House',\n",
       " 'Montauk Brewing Company',\n",
       " 'Matt Brewing Company',\n",
       " 'The Bronx Brewery',\n",
       " 'KelSo Beer Company',\n",
       " 'Brooklyn Brewery',\n",
       " 'The Manhattan Brewing Company',\n",
       " 'Blue Point Brewing Company',\n",
       " 'Bomb Beer Company',\n",
       " 'Dundee Brewing Company',\n",
       " 'Upstate Brewing Company',\n",
       " 'Butternuts Beer and Ale']"
      ]
     },
     "execution_count": 28,
     "metadata": {},
     "output_type": "execute_result"
    }
   ],
   "source": [
    "# df[df['Location'].str.endswith('NY', na=False)].groupby['Brewery'].tolist()\n",
    "\n",
    "df[df['Location'].str.endswith('NY', na=False)]['Brewery'].unique().tolist()"
   ]
  },
  {
   "cell_type": "markdown",
   "metadata": {},
   "source": [
    "### Now *count* all of the breweries in New York state"
   ]
  },
  {
   "cell_type": "code",
   "execution_count": 29,
   "metadata": {},
   "outputs": [
    {
     "data": {
      "text/plain": [
       "16"
      ]
     },
     "execution_count": 29,
     "metadata": {},
     "output_type": "execute_result"
    }
   ],
   "source": [
    "# df[df['Location'].str.endswith('NY', na=False)]['Brewery'].value_counts()\n",
    "\n",
    "df[df['Location'].str.endswith('NY', na=False)]['Brewery'].nunique()"
   ]
  },
  {
   "cell_type": "markdown",
   "metadata": {},
   "source": [
    "# Measuring International Bitterness Units\n",
    "\n",
    "## Display all of the IPAs\n",
    "\n",
    "Include American IPAs, Imperial IPAs, and anything else with \"IPA in it.\"\n",
    "\n",
    "IPA stands for [India Pale Ale](https://www.bonappetit.com/story/ipa-beer-styles), and is probably the most popular kind of beer in the US for people who are drinking [craft beer](https://www.craftbeer.com/beer/what-is-craft-beer)."
   ]
  },
  {
   "cell_type": "code",
   "execution_count": 30,
   "metadata": {},
   "outputs": [
    {
     "data": {
      "text/html": [
       "<div>\n",
       "<style scoped>\n",
       "    .dataframe tbody tr th:only-of-type {\n",
       "        vertical-align: middle;\n",
       "    }\n",
       "\n",
       "    .dataframe tbody tr th {\n",
       "        vertical-align: top;\n",
       "    }\n",
       "\n",
       "    .dataframe thead th {\n",
       "        text-align: right;\n",
       "    }\n",
       "</style>\n",
       "<table border=\"1\" class=\"dataframe\">\n",
       "  <thead>\n",
       "    <tr style=\"text-align: right;\">\n",
       "      <th></th>\n",
       "      <th>Beer</th>\n",
       "      <th>Brewery</th>\n",
       "      <th>Location</th>\n",
       "      <th>Style</th>\n",
       "      <th>Size</th>\n",
       "      <th>ABV</th>\n",
       "      <th>IBUs</th>\n",
       "    </tr>\n",
       "  </thead>\n",
       "  <tbody>\n",
       "    <tr>\n",
       "      <th>0</th>\n",
       "      <td>Get Together</td>\n",
       "      <td>NorthGate Brewing</td>\n",
       "      <td>Minneapolis, MN</td>\n",
       "      <td>American IPA</td>\n",
       "      <td>16 oz.</td>\n",
       "      <td>4.5</td>\n",
       "      <td>50.0</td>\n",
       "    </tr>\n",
       "    <tr>\n",
       "      <th>6</th>\n",
       "      <td>Citra Ass Down</td>\n",
       "      <td>Against the Grain Brewery</td>\n",
       "      <td>Louisville, KY</td>\n",
       "      <td>American Double / Imperial IPA</td>\n",
       "      <td>16 oz.</td>\n",
       "      <td>8.0</td>\n",
       "      <td>68.0</td>\n",
       "    </tr>\n",
       "    <tr>\n",
       "      <th>14</th>\n",
       "      <td>Rico Sauvin</td>\n",
       "      <td>Against the Grain Brewery</td>\n",
       "      <td>Louisville, KY</td>\n",
       "      <td>American Double / Imperial IPA</td>\n",
       "      <td>16 oz.</td>\n",
       "      <td>7.6</td>\n",
       "      <td>68.0</td>\n",
       "    </tr>\n",
       "    <tr>\n",
       "      <th>17</th>\n",
       "      <td>Pile of Face</td>\n",
       "      <td>Against the Grain Brewery</td>\n",
       "      <td>Louisville, KY</td>\n",
       "      <td>American IPA</td>\n",
       "      <td>16 oz.</td>\n",
       "      <td>6.0</td>\n",
       "      <td>65.0</td>\n",
       "    </tr>\n",
       "    <tr>\n",
       "      <th>24</th>\n",
       "      <td>Habitus (2014)</td>\n",
       "      <td>Mike Hess Brewing Company</td>\n",
       "      <td>San Diego, CA</td>\n",
       "      <td>American Double / Imperial IPA</td>\n",
       "      <td>16 oz.</td>\n",
       "      <td>8.0</td>\n",
       "      <td>100.0</td>\n",
       "    </tr>\n",
       "    <tr>\n",
       "      <th>...</th>\n",
       "      <td>...</td>\n",
       "      <td>...</td>\n",
       "      <td>...</td>\n",
       "      <td>...</td>\n",
       "      <td>...</td>\n",
       "      <td>...</td>\n",
       "      <td>...</td>\n",
       "    </tr>\n",
       "    <tr>\n",
       "      <th>2403</th>\n",
       "      <td>Abrasive Ale</td>\n",
       "      <td>Surly Brewing Company</td>\n",
       "      <td>Brooklyn Center, MN</td>\n",
       "      <td>American Double / Imperial IPA</td>\n",
       "      <td>16 oz.</td>\n",
       "      <td>9.7</td>\n",
       "      <td>120.0</td>\n",
       "    </tr>\n",
       "    <tr>\n",
       "      <th>2406</th>\n",
       "      <td>Furious</td>\n",
       "      <td>Surly Brewing Company</td>\n",
       "      <td>Brooklyn Center, MN</td>\n",
       "      <td>American IPA</td>\n",
       "      <td>16 oz.</td>\n",
       "      <td>6.2</td>\n",
       "      <td>99.0</td>\n",
       "    </tr>\n",
       "    <tr>\n",
       "      <th>2408</th>\n",
       "      <td>Brew Free! or Die IPA</td>\n",
       "      <td>21st Amendment Brewery</td>\n",
       "      <td>San Francisco, CA</td>\n",
       "      <td>American IPA</td>\n",
       "      <td>12 oz.</td>\n",
       "      <td>7.0</td>\n",
       "      <td>65.0</td>\n",
       "    </tr>\n",
       "    <tr>\n",
       "      <th>2412</th>\n",
       "      <td>GUBNA Imperial IPA</td>\n",
       "      <td>Oskar Blues Brewery</td>\n",
       "      <td>Longmont, CO</td>\n",
       "      <td>American Double / Imperial IPA</td>\n",
       "      <td>12 oz.</td>\n",
       "      <td>9.9</td>\n",
       "      <td>100.0</td>\n",
       "    </tr>\n",
       "    <tr>\n",
       "      <th>2414</th>\n",
       "      <td>Gordon Ale (2009)</td>\n",
       "      <td>Oskar Blues Brewery</td>\n",
       "      <td>Longmont, CO</td>\n",
       "      <td>American Double / Imperial IPA</td>\n",
       "      <td>12 oz.</td>\n",
       "      <td>8.7</td>\n",
       "      <td>85.0</td>\n",
       "    </tr>\n",
       "  </tbody>\n",
       "</table>\n",
       "<p>571 rows × 7 columns</p>\n",
       "</div>"
      ],
      "text/plain": [
       "                       Beer                    Brewery             Location  \\\n",
       "0              Get Together          NorthGate Brewing      Minneapolis, MN   \n",
       "6            Citra Ass Down  Against the Grain Brewery       Louisville, KY   \n",
       "14              Rico Sauvin  Against the Grain Brewery       Louisville, KY   \n",
       "17             Pile of Face  Against the Grain Brewery       Louisville, KY   \n",
       "24           Habitus (2014)  Mike Hess Brewing Company        San Diego, CA   \n",
       "...                     ...                        ...                  ...   \n",
       "2403           Abrasive Ale      Surly Brewing Company  Brooklyn Center, MN   \n",
       "2406                Furious      Surly Brewing Company  Brooklyn Center, MN   \n",
       "2408  Brew Free! or Die IPA     21st Amendment Brewery    San Francisco, CA   \n",
       "2412     GUBNA Imperial IPA        Oskar Blues Brewery         Longmont, CO   \n",
       "2414      Gordon Ale (2009)        Oskar Blues Brewery         Longmont, CO   \n",
       "\n",
       "                               Style    Size  ABV   IBUs  \n",
       "0                       American IPA  16 oz.  4.5   50.0  \n",
       "6     American Double / Imperial IPA  16 oz.  8.0   68.0  \n",
       "14    American Double / Imperial IPA  16 oz.  7.6   68.0  \n",
       "17                      American IPA  16 oz.  6.0   65.0  \n",
       "24    American Double / Imperial IPA  16 oz.  8.0  100.0  \n",
       "...                              ...     ...  ...    ...  \n",
       "2403  American Double / Imperial IPA  16 oz.  9.7  120.0  \n",
       "2406                    American IPA  16 oz.  6.2   99.0  \n",
       "2408                    American IPA  12 oz.  7.0   65.0  \n",
       "2412  American Double / Imperial IPA  12 oz.  9.9  100.0  \n",
       "2414  American Double / Imperial IPA  12 oz.  8.7   85.0  \n",
       "\n",
       "[571 rows x 7 columns]"
      ]
     },
     "execution_count": 30,
     "metadata": {},
     "output_type": "execute_result"
    }
   ],
   "source": [
    "df[df['Style'].str.contains('IPA', na=False)]"
   ]
  },
  {
   "cell_type": "markdown",
   "metadata": {},
   "source": [
    "IPAs are usually pretty hoppy and bitter. IBU stands for [International Bitterness Unit](http://www.thebrewenthusiast.com/ibus/), and while a lot of places like to brag about having the most bitter beer (it's an American thing!), IBUs don't necessary *mean anything*.\n",
    "\n",
    "Let's look at how different beers have different IBU measurements."
   ]
  },
  {
   "cell_type": "markdown",
   "metadata": {},
   "source": [
    "## Try to get the average IBU measurement across all beers"
   ]
  },
  {
   "cell_type": "code",
   "execution_count": 55,
   "metadata": {},
   "outputs": [
    {
     "ename": "TypeError",
     "evalue": "can only concatenate str (not \"int\") to str",
     "output_type": "error",
     "traceback": [
      "\u001b[31m---------------------------------------------------------------------------\u001b[39m",
      "\u001b[31mTypeError\u001b[39m                                 Traceback (most recent call last)",
      "\u001b[36mCell\u001b[39m\u001b[36m \u001b[39m\u001b[32mIn[55]\u001b[39m\u001b[32m, line 1\u001b[39m\n\u001b[32m----> \u001b[39m\u001b[32m1\u001b[39m \u001b[43mdf\u001b[49m\u001b[43m[\u001b[49m\u001b[33;43m'\u001b[39;49m\u001b[33;43mIBUs\u001b[39;49m\u001b[33;43m'\u001b[39;49m\u001b[43m]\u001b[49m\u001b[43m.\u001b[49m\u001b[43mmean\u001b[49m\u001b[43m(\u001b[49m\u001b[43m)\u001b[49m\n",
      "\u001b[36mFile \u001b[39m\u001b[32m~/.pyenv/versions/3.12.10/lib/python3.12/site-packages/pandas/core/series.py:6560\u001b[39m, in \u001b[36mSeries.mean\u001b[39m\u001b[34m(self, axis, skipna, numeric_only, **kwargs)\u001b[39m\n\u001b[32m   6552\u001b[39m \u001b[38;5;129m@doc\u001b[39m(make_doc(\u001b[33m\"\u001b[39m\u001b[33mmean\u001b[39m\u001b[33m\"\u001b[39m, ndim=\u001b[32m1\u001b[39m))\n\u001b[32m   6553\u001b[39m \u001b[38;5;28;01mdef\u001b[39;00m\u001b[38;5;250m \u001b[39m\u001b[34mmean\u001b[39m(\n\u001b[32m   6554\u001b[39m     \u001b[38;5;28mself\u001b[39m,\n\u001b[32m   (...)\u001b[39m\u001b[32m   6558\u001b[39m     **kwargs,\n\u001b[32m   6559\u001b[39m ):\n\u001b[32m-> \u001b[39m\u001b[32m6560\u001b[39m     \u001b[38;5;28;01mreturn\u001b[39;00m \u001b[43mNDFrame\u001b[49m\u001b[43m.\u001b[49m\u001b[43mmean\u001b[49m\u001b[43m(\u001b[49m\u001b[38;5;28;43mself\u001b[39;49m\u001b[43m,\u001b[49m\u001b[43m \u001b[49m\u001b[43maxis\u001b[49m\u001b[43m,\u001b[49m\u001b[43m \u001b[49m\u001b[43mskipna\u001b[49m\u001b[43m,\u001b[49m\u001b[43m \u001b[49m\u001b[43mnumeric_only\u001b[49m\u001b[43m,\u001b[49m\u001b[43m \u001b[49m\u001b[43m*\u001b[49m\u001b[43m*\u001b[49m\u001b[43mkwargs\u001b[49m\u001b[43m)\u001b[49m\n",
      "\u001b[36mFile \u001b[39m\u001b[32m~/.pyenv/versions/3.12.10/lib/python3.12/site-packages/pandas/core/generic.py:12439\u001b[39m, in \u001b[36mNDFrame.mean\u001b[39m\u001b[34m(self, axis, skipna, numeric_only, **kwargs)\u001b[39m\n\u001b[32m  12432\u001b[39m \u001b[38;5;28;01mdef\u001b[39;00m\u001b[38;5;250m \u001b[39m\u001b[34mmean\u001b[39m(\n\u001b[32m  12433\u001b[39m     \u001b[38;5;28mself\u001b[39m,\n\u001b[32m  12434\u001b[39m     axis: Axis | \u001b[38;5;28;01mNone\u001b[39;00m = \u001b[32m0\u001b[39m,\n\u001b[32m   (...)\u001b[39m\u001b[32m  12437\u001b[39m     **kwargs,\n\u001b[32m  12438\u001b[39m ) -> Series | \u001b[38;5;28mfloat\u001b[39m:\n\u001b[32m> \u001b[39m\u001b[32m12439\u001b[39m     \u001b[38;5;28;01mreturn\u001b[39;00m \u001b[38;5;28;43mself\u001b[39;49m\u001b[43m.\u001b[49m\u001b[43m_stat_function\u001b[49m\u001b[43m(\u001b[49m\n\u001b[32m  12440\u001b[39m \u001b[43m        \u001b[49m\u001b[33;43m\"\u001b[39;49m\u001b[33;43mmean\u001b[39;49m\u001b[33;43m\"\u001b[39;49m\u001b[43m,\u001b[49m\u001b[43m \u001b[49m\u001b[43mnanops\u001b[49m\u001b[43m.\u001b[49m\u001b[43mnanmean\u001b[49m\u001b[43m,\u001b[49m\u001b[43m \u001b[49m\u001b[43maxis\u001b[49m\u001b[43m,\u001b[49m\u001b[43m \u001b[49m\u001b[43mskipna\u001b[49m\u001b[43m,\u001b[49m\u001b[43m \u001b[49m\u001b[43mnumeric_only\u001b[49m\u001b[43m,\u001b[49m\u001b[43m \u001b[49m\u001b[43m*\u001b[49m\u001b[43m*\u001b[49m\u001b[43mkwargs\u001b[49m\n\u001b[32m  12441\u001b[39m \u001b[43m    \u001b[49m\u001b[43m)\u001b[49m\n",
      "\u001b[36mFile \u001b[39m\u001b[32m~/.pyenv/versions/3.12.10/lib/python3.12/site-packages/pandas/core/generic.py:12396\u001b[39m, in \u001b[36mNDFrame._stat_function\u001b[39m\u001b[34m(self, name, func, axis, skipna, numeric_only, **kwargs)\u001b[39m\n\u001b[32m  12392\u001b[39m nv.validate_func(name, (), kwargs)\n\u001b[32m  12394\u001b[39m validate_bool_kwarg(skipna, \u001b[33m\"\u001b[39m\u001b[33mskipna\u001b[39m\u001b[33m\"\u001b[39m, none_allowed=\u001b[38;5;28;01mFalse\u001b[39;00m)\n\u001b[32m> \u001b[39m\u001b[32m12396\u001b[39m \u001b[38;5;28;01mreturn\u001b[39;00m \u001b[38;5;28;43mself\u001b[39;49m\u001b[43m.\u001b[49m\u001b[43m_reduce\u001b[49m\u001b[43m(\u001b[49m\n\u001b[32m  12397\u001b[39m \u001b[43m    \u001b[49m\u001b[43mfunc\u001b[49m\u001b[43m,\u001b[49m\u001b[43m \u001b[49m\u001b[43mname\u001b[49m\u001b[43m=\u001b[49m\u001b[43mname\u001b[49m\u001b[43m,\u001b[49m\u001b[43m \u001b[49m\u001b[43maxis\u001b[49m\u001b[43m=\u001b[49m\u001b[43maxis\u001b[49m\u001b[43m,\u001b[49m\u001b[43m \u001b[49m\u001b[43mskipna\u001b[49m\u001b[43m=\u001b[49m\u001b[43mskipna\u001b[49m\u001b[43m,\u001b[49m\u001b[43m \u001b[49m\u001b[43mnumeric_only\u001b[49m\u001b[43m=\u001b[49m\u001b[43mnumeric_only\u001b[49m\n\u001b[32m  12398\u001b[39m \u001b[43m\u001b[49m\u001b[43m)\u001b[49m\n",
      "\u001b[36mFile \u001b[39m\u001b[32m~/.pyenv/versions/3.12.10/lib/python3.12/site-packages/pandas/core/series.py:6468\u001b[39m, in \u001b[36mSeries._reduce\u001b[39m\u001b[34m(self, op, name, axis, skipna, numeric_only, filter_type, **kwds)\u001b[39m\n\u001b[32m   6463\u001b[39m     \u001b[38;5;66;03m# GH#47500 - change to TypeError to match other methods\u001b[39;00m\n\u001b[32m   6464\u001b[39m     \u001b[38;5;28;01mraise\u001b[39;00m \u001b[38;5;167;01mTypeError\u001b[39;00m(\n\u001b[32m   6465\u001b[39m         \u001b[33mf\u001b[39m\u001b[33m\"\u001b[39m\u001b[33mSeries.\u001b[39m\u001b[38;5;132;01m{\u001b[39;00mname\u001b[38;5;132;01m}\u001b[39;00m\u001b[33m does not allow \u001b[39m\u001b[38;5;132;01m{\u001b[39;00mkwd_name\u001b[38;5;132;01m}\u001b[39;00m\u001b[33m=\u001b[39m\u001b[38;5;132;01m{\u001b[39;00mnumeric_only\u001b[38;5;132;01m}\u001b[39;00m\u001b[33m \u001b[39m\u001b[33m\"\u001b[39m\n\u001b[32m   6466\u001b[39m         \u001b[33m\"\u001b[39m\u001b[33mwith non-numeric dtypes.\u001b[39m\u001b[33m\"\u001b[39m\n\u001b[32m   6467\u001b[39m     )\n\u001b[32m-> \u001b[39m\u001b[32m6468\u001b[39m \u001b[38;5;28;01mreturn\u001b[39;00m \u001b[43mop\u001b[49m\u001b[43m(\u001b[49m\u001b[43mdelegate\u001b[49m\u001b[43m,\u001b[49m\u001b[43m \u001b[49m\u001b[43mskipna\u001b[49m\u001b[43m=\u001b[49m\u001b[43mskipna\u001b[49m\u001b[43m,\u001b[49m\u001b[43m \u001b[49m\u001b[43m*\u001b[49m\u001b[43m*\u001b[49m\u001b[43mkwds\u001b[49m\u001b[43m)\u001b[49m\n",
      "\u001b[36mFile \u001b[39m\u001b[32m~/.pyenv/versions/3.12.10/lib/python3.12/site-packages/pandas/core/nanops.py:147\u001b[39m, in \u001b[36mbottleneck_switch.__call__.<locals>.f\u001b[39m\u001b[34m(values, axis, skipna, **kwds)\u001b[39m\n\u001b[32m    145\u001b[39m         result = alt(values, axis=axis, skipna=skipna, **kwds)\n\u001b[32m    146\u001b[39m \u001b[38;5;28;01melse\u001b[39;00m:\n\u001b[32m--> \u001b[39m\u001b[32m147\u001b[39m     result = \u001b[43malt\u001b[49m\u001b[43m(\u001b[49m\u001b[43mvalues\u001b[49m\u001b[43m,\u001b[49m\u001b[43m \u001b[49m\u001b[43maxis\u001b[49m\u001b[43m=\u001b[49m\u001b[43maxis\u001b[49m\u001b[43m,\u001b[49m\u001b[43m \u001b[49m\u001b[43mskipna\u001b[49m\u001b[43m=\u001b[49m\u001b[43mskipna\u001b[49m\u001b[43m,\u001b[49m\u001b[43m \u001b[49m\u001b[43m*\u001b[49m\u001b[43m*\u001b[49m\u001b[43mkwds\u001b[49m\u001b[43m)\u001b[49m\n\u001b[32m    149\u001b[39m \u001b[38;5;28;01mreturn\u001b[39;00m result\n",
      "\u001b[36mFile \u001b[39m\u001b[32m~/.pyenv/versions/3.12.10/lib/python3.12/site-packages/pandas/core/nanops.py:404\u001b[39m, in \u001b[36m_datetimelike_compat.<locals>.new_func\u001b[39m\u001b[34m(values, axis, skipna, mask, **kwargs)\u001b[39m\n\u001b[32m    401\u001b[39m \u001b[38;5;28;01mif\u001b[39;00m datetimelike \u001b[38;5;129;01mand\u001b[39;00m mask \u001b[38;5;129;01mis\u001b[39;00m \u001b[38;5;28;01mNone\u001b[39;00m:\n\u001b[32m    402\u001b[39m     mask = isna(values)\n\u001b[32m--> \u001b[39m\u001b[32m404\u001b[39m result = \u001b[43mfunc\u001b[49m\u001b[43m(\u001b[49m\u001b[43mvalues\u001b[49m\u001b[43m,\u001b[49m\u001b[43m \u001b[49m\u001b[43maxis\u001b[49m\u001b[43m=\u001b[49m\u001b[43maxis\u001b[49m\u001b[43m,\u001b[49m\u001b[43m \u001b[49m\u001b[43mskipna\u001b[49m\u001b[43m=\u001b[49m\u001b[43mskipna\u001b[49m\u001b[43m,\u001b[49m\u001b[43m \u001b[49m\u001b[43mmask\u001b[49m\u001b[43m=\u001b[49m\u001b[43mmask\u001b[49m\u001b[43m,\u001b[49m\u001b[43m \u001b[49m\u001b[43m*\u001b[49m\u001b[43m*\u001b[49m\u001b[43mkwargs\u001b[49m\u001b[43m)\u001b[49m\n\u001b[32m    406\u001b[39m \u001b[38;5;28;01mif\u001b[39;00m datetimelike:\n\u001b[32m    407\u001b[39m     result = _wrap_results(result, orig_values.dtype, fill_value=iNaT)\n",
      "\u001b[36mFile \u001b[39m\u001b[32m~/.pyenv/versions/3.12.10/lib/python3.12/site-packages/pandas/core/nanops.py:719\u001b[39m, in \u001b[36mnanmean\u001b[39m\u001b[34m(values, axis, skipna, mask)\u001b[39m\n\u001b[32m    716\u001b[39m     dtype_count = dtype\n\u001b[32m    718\u001b[39m count = _get_counts(values.shape, mask, axis, dtype=dtype_count)\n\u001b[32m--> \u001b[39m\u001b[32m719\u001b[39m the_sum = \u001b[43mvalues\u001b[49m\u001b[43m.\u001b[49m\u001b[43msum\u001b[49m\u001b[43m(\u001b[49m\u001b[43maxis\u001b[49m\u001b[43m,\u001b[49m\u001b[43m \u001b[49m\u001b[43mdtype\u001b[49m\u001b[43m=\u001b[49m\u001b[43mdtype_sum\u001b[49m\u001b[43m)\u001b[49m\n\u001b[32m    720\u001b[39m the_sum = _ensure_numeric(the_sum)\n\u001b[32m    722\u001b[39m \u001b[38;5;28;01mif\u001b[39;00m axis \u001b[38;5;129;01mis\u001b[39;00m \u001b[38;5;129;01mnot\u001b[39;00m \u001b[38;5;28;01mNone\u001b[39;00m \u001b[38;5;129;01mand\u001b[39;00m \u001b[38;5;28mgetattr\u001b[39m(the_sum, \u001b[33m\"\u001b[39m\u001b[33mndim\u001b[39m\u001b[33m\"\u001b[39m, \u001b[38;5;28;01mFalse\u001b[39;00m):\n",
      "\u001b[36mFile \u001b[39m\u001b[32m~/.pyenv/versions/3.12.10/lib/python3.12/site-packages/numpy/_core/_methods.py:52\u001b[39m, in \u001b[36m_sum\u001b[39m\u001b[34m(a, axis, dtype, out, keepdims, initial, where)\u001b[39m\n\u001b[32m     50\u001b[39m \u001b[38;5;28;01mdef\u001b[39;00m\u001b[38;5;250m \u001b[39m\u001b[34m_sum\u001b[39m(a, axis=\u001b[38;5;28;01mNone\u001b[39;00m, dtype=\u001b[38;5;28;01mNone\u001b[39;00m, out=\u001b[38;5;28;01mNone\u001b[39;00m, keepdims=\u001b[38;5;28;01mFalse\u001b[39;00m,\n\u001b[32m     51\u001b[39m          initial=_NoValue, where=\u001b[38;5;28;01mTrue\u001b[39;00m):\n\u001b[32m---> \u001b[39m\u001b[32m52\u001b[39m     \u001b[38;5;28;01mreturn\u001b[39;00m \u001b[43mumr_sum\u001b[49m\u001b[43m(\u001b[49m\u001b[43ma\u001b[49m\u001b[43m,\u001b[49m\u001b[43m \u001b[49m\u001b[43maxis\u001b[49m\u001b[43m,\u001b[49m\u001b[43m \u001b[49m\u001b[43mdtype\u001b[49m\u001b[43m,\u001b[49m\u001b[43m \u001b[49m\u001b[43mout\u001b[49m\u001b[43m,\u001b[49m\u001b[43m \u001b[49m\u001b[43mkeepdims\u001b[49m\u001b[43m,\u001b[49m\u001b[43m \u001b[49m\u001b[43minitial\u001b[49m\u001b[43m,\u001b[49m\u001b[43m \u001b[49m\u001b[43mwhere\u001b[49m\u001b[43m)\u001b[49m\n",
      "\u001b[31mTypeError\u001b[39m: can only concatenate str (not \"int\") to str"
     ]
    }
   ],
   "source": [
    "df['IBUs'].mean()"
   ]
  },
  {
   "cell_type": "markdown",
   "metadata": {},
   "source": [
    "### Oh no, it doesn't work!\n",
    "\n",
    "It looks like some of those values *aren't numbers*. There are two ways to fix this:\n",
    "\n",
    "- *Tip: If you use [`na_values=`](http://pandas.pydata.org/pandas-docs/version/0.23/generated/pandas.read_csv.html). be sure to go add it up top and run all of your cells again. You can also use `.replace` but I don't think that's as good of an idea.*\n",
    "- *Tip: Make sure you're giving `na_values=` a LIST, not just a string*\n",
    "\n",
    "### Now try to get the average IBUs again"
   ]
  },
  {
   "cell_type": "code",
   "execution_count": 31,
   "metadata": {},
   "outputs": [
    {
     "data": {
      "text/plain": [
       "dtype('float64')"
      ]
     },
     "execution_count": 31,
     "metadata": {},
     "output_type": "execute_result"
    }
   ],
   "source": [
    "df['IBUs'].dtype"
   ]
  },
  {
   "cell_type": "code",
   "execution_count": 32,
   "metadata": {},
   "outputs": [
    {
     "data": {
      "text/plain": [
       "np.float64(42.71316725978647)"
      ]
     },
     "execution_count": 32,
     "metadata": {},
     "output_type": "execute_result"
    }
   ],
   "source": [
    "df['IBUs'].mean()"
   ]
  },
  {
   "cell_type": "markdown",
   "metadata": {},
   "source": [
    "## Draw the distribution of IBU measurements, but with *twenty* bins instead of the default of 10\n",
    "\n",
    "- *Tip: Every time I ask for a distribution, I'm looking for a histogram*"
   ]
  },
  {
   "cell_type": "code",
   "execution_count": 33,
   "metadata": {},
   "outputs": [
    {
     "data": {
      "text/plain": [
       "<Axes: ylabel='Frequency'>"
      ]
     },
     "execution_count": 33,
     "metadata": {},
     "output_type": "execute_result"
    },
    {
     "data": {
      "image/png": "[encoded data removed]",
      "text/plain": [
       "<Figure size 640x480 with 1 Axes>"
      ]
     },
     "metadata": {},
     "output_type": "display_data"
    }
   ],
   "source": [
    "df['IBUs'].plot(kind='hist', bins=20)"
   ]
  },
  {
   "cell_type": "markdown",
   "metadata": {},
   "source": [
    "## Hm, Interesting distribution. List all of the beers with IBUs above the 75th percentile\n",
    "\n",
    "- *Tip: There's a single command that gives you the 25/50/75th percentile*\n",
    "- *Tip: You can just manually type the number when you list those beers*"
   ]
  },
  {
   "cell_type": "code",
   "execution_count": 34,
   "metadata": {},
   "outputs": [
    {
     "data": {
      "text/plain": [
       "count    1405.000000\n",
       "mean       42.713167\n",
       "std        25.954066\n",
       "min         4.000000\n",
       "25%        21.000000\n",
       "50%        35.000000\n",
       "75%        64.000000\n",
       "max       138.000000\n",
       "Name: IBUs, dtype: float64"
      ]
     },
     "execution_count": 34,
     "metadata": {},
     "output_type": "execute_result"
    }
   ],
   "source": [
    "df['IBUs'].describe()"
   ]
  },
  {
   "cell_type": "code",
   "execution_count": 37,
   "metadata": {},
   "outputs": [
    {
     "data": {
      "text/plain": [
       "6                Citra Ass Down\n",
       "7                London Balling\n",
       "14                  Rico Sauvin\n",
       "17                 Pile of Face\n",
       "21                   Excess IPL\n",
       "                 ...           \n",
       "2408      Brew Free! or Die IPA\n",
       "2410    Ten Fidy Imperial Stout\n",
       "2412         GUBNA Imperial IPA\n",
       "2414          Gordon Ale (2009)\n",
       "2415            Dale's Pale Ale\n",
       "Name: Beer, Length: 346, dtype: object"
      ]
     },
     "execution_count": 37,
     "metadata": {},
     "output_type": "execute_result"
    }
   ],
   "source": [
    "threshold_high = df['IBUs'].quantile(0.75)\n",
    "\n",
    "high_ibu_beers = df[df['IBUs'] > threshold]\n",
    "\n",
    "high_ibu_beers['Beer']"
   ]
  },
  {
   "cell_type": "code",
   "execution_count": 36,
   "metadata": {},
   "outputs": [
    {
     "data": {
      "text/plain": [
       "['Citra Ass Down',\n",
       " 'London Balling',\n",
       " 'Rico Sauvin',\n",
       " 'Pile of Face',\n",
       " 'Excess IPL',\n",
       " 'Hoponius Union',\n",
       " 'Habitus (2014)',\n",
       " 'Solis',\n",
       " 'Habitus',\n",
       " 'Yeti Imperial Stout',\n",
       " \"98 Problems (Cuz A Hop Ain't One)\",\n",
       " 'Train Hopper',\n",
       " 'Csar',\n",
       " 'Saucy Intruder',\n",
       " 'The Gadget',\n",
       " 'Gone A-Rye',\n",
       " 'Heavy Lifting',\n",
       " 'Jah Mon',\n",
       " 'Flying Mouse 4',\n",
       " 'Citra Ass Down',\n",
       " 'Soul Doubt',\n",
       " 'Bimini Twist',\n",
       " 'Long Leaf',\n",
       " 'Double Duckpin',\n",
       " 'Hop A-Peel',\n",
       " 'Wobble',\n",
       " 'Hopkick Dropkick',\n",
       " 'Union Jack',\n",
       " 'India Pale Ale',\n",
       " 'Self Starter',\n",
       " 'Nugget Nectar',\n",
       " 'Mission IPA',\n",
       " 'Bay of Bengal Double IPA (2014)',\n",
       " 'Newport Storm IPA',\n",
       " 'Clean Shave IPA',\n",
       " 'Big Star White IPA',\n",
       " 'Firestarter India Pale Ale',\n",
       " 'Back Bay IPA',\n",
       " '4000 Footer IPA',\n",
       " 'Unchained #18 Hop Silo',\n",
       " 'Harness the Winter',\n",
       " 'Rule G IPA',\n",
       " 'Yellow Wolf Imperial IPA',\n",
       " 'Third Eye Enlightened Pale Ale',\n",
       " 'The Green Room',\n",
       " '2014 IPA Cicada Series',\n",
       " 'Sinister Minister Black IPA',\n",
       " 'O’Malley’s IPA',\n",
       " 'Perpetual Darkness',\n",
       " 'Watershed IPA',\n",
       " 'Hoodoo Voodoo IPA',\n",
       " 'Hopportunity Knocks IPA',\n",
       " 'Mothman Black IPA',\n",
       " 'Homefront IPA',\n",
       " 'The Power of Zeus',\n",
       " 'Salamander Slam',\n",
       " 'Torpedo',\n",
       " 'Ranger IPA',\n",
       " 'Dark Voyage Black IPA (2013)',\n",
       " 'Scarecrow',\n",
       " \"Lil' Helper\",\n",
       " 'Hopworks IPA',\n",
       " 'Worthy IPA',\n",
       " 'Abominable Winter Ale',\n",
       " 'Tsunami IPA',\n",
       " 'Tsunami IPA',\n",
       " 'Mound Builder IPA',\n",
       " 'Dream Crusher Double IPA',\n",
       " 'City of the Sun',\n",
       " '3:33 Black IPA',\n",
       " 'Booming Rollers',\n",
       " 'Aurora',\n",
       " 'More Cowbell',\n",
       " 'Brutus',\n",
       " '1916 Shore Shiver',\n",
       " 'Arcus IPA',\n",
       " 'Epitome',\n",
       " 'Hop Stalker Fresh Hop IPA',\n",
       " '8 Barrel',\n",
       " 'Dead-Eye DIPA',\n",
       " 'Count Hopula (Vault Series)',\n",
       " 'Dankosaurus',\n",
       " 'Might As Well IPL',\n",
       " \"Captain's Daughter\",\n",
       " 'Infamous IPA',\n",
       " 'Tropicalia',\n",
       " 'Vertex IPA',\n",
       " 'Operation Homefront',\n",
       " 'Wandering Pelican',\n",
       " 'Giant DIPA',\n",
       " 'Fistful Of Hops Red',\n",
       " 'Fistful of Hops Orange',\n",
       " 'Fistful Of Hops Blue',\n",
       " 'Fistful of Hops Green',\n",
       " 'Sky-Five',\n",
       " '077XX',\n",
       " 'Almanac IPA',\n",
       " 'Missile IPA',\n",
       " 'Second Fiddle',\n",
       " 'Let It Ride IPA',\n",
       " 'Bent Hop Golden IPA',\n",
       " 'Groupe G',\n",
       " 'Hill 88 Double IPA',\n",
       " 'Hoperation Overload',\n",
       " 'Hop Freak',\n",
       " 'El Chingon IPA',\n",
       " 'Saint Archer IPA',\n",
       " 'BLAKKR',\n",
       " 'Supergoose IPA',\n",
       " 'IPA & a Half',\n",
       " 'Truth',\n",
       " 'American India Red Ale',\n",
       " 'Squatters Hop Rising Double IPA',\n",
       " 'Quarter Mile Double IPA',\n",
       " 'Hoptopus Double IPA',\n",
       " \"Filthy Hoppin' IPA\",\n",
       " '2020 IPA',\n",
       " 'Golden Ratio IPA',\n",
       " 'Hemlock Double IPA',\n",
       " 'Mississippi Fire Ant',\n",
       " 'BLAKKR',\n",
       " 'Red Cockaded Ale',\n",
       " 'Hop Nosh IPA',\n",
       " 'Big Sky IPA',\n",
       " 'Wolf Among Weeds IPA',\n",
       " 'Be Hoppy IPA',\n",
       " 'Hi-Res',\n",
       " 'Irregardless IPA',\n",
       " 'Squatters Hop Rising Double IPA (2014)',\n",
       " 'The Great Return',\n",
       " 'Troopers Alley IPA',\n",
       " 'Madra Allta',\n",
       " 'Chaotic Double IPA',\n",
       " 'Manzanita IPA',\n",
       " 'King Street IPA',\n",
       " 'Sobek & Set',\n",
       " 'Evo IPA',\n",
       " 'Lucky Day IPA',\n",
       " 'Terrace Hill Double IPA',\n",
       " 'Catch 23',\n",
       " 'Better Weather IPA',\n",
       " \"Hop Drop 'N Roll IPA\",\n",
       " 'Hop Slayer Double IPA',\n",
       " 'Half Cycle IPA',\n",
       " 'Initial Point India Pale Ale',\n",
       " 'Global Warmer',\n",
       " 'Good Vibes IPA',\n",
       " 'Dagger Falls IPA',\n",
       " 'Dagger Falls IPA',\n",
       " 'Autumnation (2013)',\n",
       " '12th Round',\n",
       " 'RoughTail IPA',\n",
       " 'Centennial IPA',\n",
       " 'Double Trunk',\n",
       " 'Batch 69 IPA',\n",
       " 'Farmer Wirtz India Pale Ale',\n",
       " 'Proxima IPA',\n",
       " 'Monkey Fist IPA',\n",
       " \"G'KNIGHT\",\n",
       " 'Ten Fidy',\n",
       " 'Modus Hoperandi',\n",
       " 'Worthy IPA (2013)',\n",
       " 'Perpetual IPA',\n",
       " 'Country Boy IPA',\n",
       " 'Valkyrie Double IPA',\n",
       " 'Blazing World',\n",
       " 'Pilzilla',\n",
       " 'Falling Down Brown Ale',\n",
       " 'Shipwrecked Double IPA',\n",
       " 'Moirai India Pale Ale',\n",
       " 'Overlord Imperial IPA',\n",
       " \"Dale's Pale Ale\",\n",
       " 'F5 IPA',\n",
       " 'Wood Chipper India Pale Ale',\n",
       " 'Grapefruit Jungle (GFJ)',\n",
       " 'Larry Imperial IPA',\n",
       " \"Mind's Eye PA\",\n",
       " 'Big Eye India Pale Ale',\n",
       " 'Heal the Bay IPA',\n",
       " 'Laughing Dog IPA',\n",
       " 'Cascadian Dark Ale',\n",
       " 'Sanitas Black IPA',\n",
       " 'Elephant Rock IPA',\n",
       " 'Crank Yanker IPA',\n",
       " 'Bourbon Barrel Aged Timmie',\n",
       " 'Alphadelic IPA',\n",
       " 'Habitus IPA',\n",
       " \"Dreamin' Double IPA\",\n",
       " \"Deviant Dale's IPA\",\n",
       " \"Hop Ottin' IPA\",\n",
       " 'Upslope Imperial India Pale Ale',\n",
       " 'Face Plant IPA',\n",
       " 'Bozone HopZone IPA',\n",
       " 'Nice Rack IPA',\n",
       " 'Old Grogham Imperial India Pale Ale',\n",
       " '5 Day IPA',\n",
       " 'Forest Fire Imperial Smoked Rye',\n",
       " 'Bad Axe Imperial IPA',\n",
       " \"Dale's Pale Ale\",\n",
       " 'Duluchan India Pale Ale',\n",
       " 'Dodgy Knight Imperial IPA',\n",
       " 'Indian Paintbrush IPA',\n",
       " 'Mutiny IPA',\n",
       " 'Redacted Rye IPA',\n",
       " 'Evolutionary IPA (2012)',\n",
       " \"Dale's Pale Ale\",\n",
       " \"Old Devil's Tooth\",\n",
       " 'Nebraska India Pale Ale',\n",
       " 'Humidor Series India Pale Ale',\n",
       " 'Jai Alai IPA Aged on White Oak',\n",
       " 'José Martí American Porter',\n",
       " 'Psychopathy',\n",
       " 'Overrated! West Coast Style IPA',\n",
       " 'Heady Topper',\n",
       " 'Descender IPA',\n",
       " 'Hop Notch IPA (2013)',\n",
       " 'Hop Shock IPA',\n",
       " 'Disconnected Red',\n",
       " \"Dale's Pale Ale\",\n",
       " 'Outlaw IPA',\n",
       " 'Lower De Boom',\n",
       " '3Beans',\n",
       " 'Sculpin IPA',\n",
       " 'Ethos IPA',\n",
       " 'Red Cockaded Ale (2013)',\n",
       " 'Elevation Triple India Pale Ale',\n",
       " 'Watershed IPA (2013)',\n",
       " 'Winterfest',\n",
       " 'Bitter Bitch Imperial IPA',\n",
       " 'Rude Parrot IPA',\n",
       " 'Des Moines IPA',\n",
       " 'Black IPA',\n",
       " 'Topcutter India Pale Ale',\n",
       " \"Dale's Pale Ale\",\n",
       " 'Twister Creek India Pale Ale',\n",
       " 'Deep Ellum IPA',\n",
       " 'Fascist Pig Ale',\n",
       " \"Frankenlou's IPA\",\n",
       " 'Abominable Winter Ale (2012)',\n",
       " 'Oasis',\n",
       " 'Ex Umbris Rye Imperial Stout',\n",
       " 'Odyssey Imperial IPA',\n",
       " \"Dale's Pale Ale (10 Year Anniversary)\",\n",
       " 'Hop Abomination',\n",
       " 'Dagger Falls IPA',\n",
       " 'Cane and Ebel',\n",
       " 'Interurban IPA',\n",
       " 'PRO-AM (2012) (2012)',\n",
       " 'On the Wings of Armageddon',\n",
       " \"Dale's Pale Ale (2012)\",\n",
       " 'Gordon Imperial Red (2010)',\n",
       " 'Gordon (2005)',\n",
       " 'Ten Fidy Imperial Stout (2008)',\n",
       " 'Ten Fidy Imperial Stout (2007)',\n",
       " '21st Amendment IPA (2006)',\n",
       " 'Brew Free! or Die IPA (2008)',\n",
       " 'Brew Free! or Die IPA (2009)',\n",
       " 'Caldera IPA (2009)',\n",
       " 'Caldera IPA (2007)',\n",
       " 'Ace IPA',\n",
       " 'Double Haul IPA (2009)',\n",
       " 'Double Haul IPA (2006)',\n",
       " \"Dale's Pale Ale (2011)\",\n",
       " \"Dale's Pale Ale (2010)\",\n",
       " 'Burning Bush Smoked IPA',\n",
       " 'Wolf Among Weeds IPA (2012)',\n",
       " 'Old Grogham Imperial India Pale Ale (2012)',\n",
       " \"Dale's Pale Ale (2008)\",\n",
       " \"Dale's Pale Ale (2006)\",\n",
       " \"Dale's Pale Ale (2004)\",\n",
       " \"Dale's Pale Ale (2003)\",\n",
       " \"Dale's Pale Ale (2002)\",\n",
       " 'Hop Slayer Double IPA (2011)',\n",
       " 'California Sunshine Rye IPA',\n",
       " 'Midnight Ryder',\n",
       " \"G'KNIGHT (16 oz.)\",\n",
       " 'Over the Rail Pale Ale',\n",
       " 'Hop A Potamus Double Dark Rye Pale Ale',\n",
       " 'Rodeo Clown Double IPA',\n",
       " 'Elevated IPA',\n",
       " 'Hopworks IPA (2012)',\n",
       " 'Isis',\n",
       " 'Hoppy Boy',\n",
       " 'Monkeynaut IPA',\n",
       " 'Ryeteous Rye IPA (2012)',\n",
       " 'Firestarter India Pale Ale',\n",
       " 'Resin',\n",
       " 'Independence Pass Ale',\n",
       " 'HGH (Home Grown Hops): Part Duh',\n",
       " 'Big Sky IPA (2012)',\n",
       " 'Westbrook IPA',\n",
       " 'Tocobaga Red Ale',\n",
       " 'Ranger IPA',\n",
       " 'Eclipse Black IPA',\n",
       " 'Jai Alai IPA',\n",
       " 'Old Elephant Foot IPA',\n",
       " 'Big Cock IPA',\n",
       " 'Grapefruit Jungle (GFJ) (2011)',\n",
       " 'Diesel',\n",
       " 'Evolutionary IPA (2011)',\n",
       " 'Alphadelic IPA (2011)',\n",
       " 'Missouri Mule India Pale Ale',\n",
       " 'Hop Box Imperial IPA',\n",
       " 'Hopadillo India Pale Ale',\n",
       " \"Bourbon's Barrel Stout\",\n",
       " 'Great Crescent Stout',\n",
       " \"Flyin' HI.P.Hay\",\n",
       " 'Sockeye Red IPA',\n",
       " 'Hop Crisis',\n",
       " 'Hop Slayer Double IPA (2011)',\n",
       " 'Shiva IPA',\n",
       " 'Torpedo',\n",
       " 'Anti-Hero IPA',\n",
       " 'Crank Yanker IPA (2011)',\n",
       " \"G'KNIGHT (12 oz.)\",\n",
       " 'Black Adder IBA (Current)',\n",
       " 'Upstate I.P.W.',\n",
       " 'Heady Topper',\n",
       " \"Hop Ottin' IPA (2011)\",\n",
       " 'WET',\n",
       " 'Gandhi-Bot Double IPA ',\n",
       " 'Vortex IPA',\n",
       " 'Hop Shock IPA (2010)',\n",
       " 'Snake Handler Double IPA',\n",
       " 'Lucky U IPA',\n",
       " 'The Corruption',\n",
       " 'Stowaway IPA',\n",
       " 'Back in Black',\n",
       " 'Ranger IPA (Current)',\n",
       " 'Avery India Pale Ale',\n",
       " 'Oasis (2010)',\n",
       " 'Third Eye Pale Ale',\n",
       " 'Double Haul IPA',\n",
       " 'Modus Hoperandi',\n",
       " 'Ballz Deep Double IPA',\n",
       " 'Gandhi-Bot Double IPA ',\n",
       " 'Caldera IPA',\n",
       " 'Big Swell IPA',\n",
       " '113 IPA',\n",
       " 'Abrasive Ale',\n",
       " 'Furious',\n",
       " 'Brew Free! or Die IPA',\n",
       " 'Ten Fidy Imperial Stout',\n",
       " 'GUBNA Imperial IPA',\n",
       " 'Gordon Ale (2009)',\n",
       " \"Dale's Pale Ale\"]"
      ]
     },
     "execution_count": 36,
     "metadata": {},
     "output_type": "execute_result"
    }
   ],
   "source": [
    "high_ibu_beers['Beer'].tolist()"
   ]
  },
  {
   "cell_type": "markdown",
   "metadata": {},
   "source": [
    "## List all of the beers with IBUs below the 25th percentile"
   ]
  },
  {
   "cell_type": "code",
   "execution_count": 39,
   "metadata": {},
   "outputs": [
    {
     "data": {
      "text/plain": [
       "0                        Get Together\n",
       "1                       Maggie's Leap\n",
       "2                          Wall's End\n",
       "3                             Pumpion\n",
       "4                          Stronghold\n",
       "                    ...              \n",
       "2405                         CynicAle\n",
       "2407                     Monk's Blood\n",
       "2409    Hell or High Watermelon Wheat\n",
       "2411         Mama's Little Yella Pils\n",
       "2413                         Old Chub\n",
       "Name: Beer, Length: 1052, dtype: object"
      ]
     },
     "execution_count": 39,
     "metadata": {},
     "output_type": "execute_result"
    }
   ],
   "source": [
    "threshold_low = df['IBUs'].quantile(0.25)\n",
    "\n",
    "low_ibu_beers = df[df['IBUs'] < threshold]\n",
    "\n",
    "low_ibu_beers['Beer']"
   ]
  },
  {
   "cell_type": "code",
   "execution_count": 40,
   "metadata": {},
   "outputs": [
    {
     "data": {
      "text/plain": [
       "['Get Together',\n",
       " \"Maggie's Leap\",\n",
       " \"Wall's End\",\n",
       " 'Pumpion',\n",
       " 'Stronghold',\n",
       " 'Parapet ESB',\n",
       " '35 K',\n",
       " 'A Beer',\n",
       " 'Rules are Rules',\n",
       " \"Flesh Gourd'n\",\n",
       " \"Sho'nuff\",\n",
       " 'Bloody Show',\n",
       " 'Coq de la Marche',\n",
       " 'The Brown Note',\n",
       " 'House Lager',\n",
       " 'Leisure Time',\n",
       " 'Calyptra',\n",
       " 'Jucundus',\n",
       " 'Grazias',\n",
       " 'Claritas',\n",
       " 'Park',\n",
       " 'Westfalia',\n",
       " 'KSA',\n",
       " 'Villager',\n",
       " \"Peck's Porter\",\n",
       " 'Dark Star',\n",
       " 'Sparkle',\n",
       " 'Nordskye',\n",
       " 'Hotbox Brown',\n",
       " 'Gold',\n",
       " 'Veteran’s Pale Ale (VPA)',\n",
       " 'Grapefruit IPA',\n",
       " 'Dirty Bastard',\n",
       " 'Cafe Leche',\n",
       " 'Damascene Apricot Sour',\n",
       " 'Thai.p.a',\n",
       " 'Pole Barn Stout',\n",
       " 'Pale',\n",
       " \"Yoshi's Nectar\",\n",
       " 'Tribute',\n",
       " 'Tip Off',\n",
       " 'Blonde Czich',\n",
       " 'Citrafest',\n",
       " 'Deduction',\n",
       " 'Sex Panther',\n",
       " 'Surfrider',\n",
       " 'Czech Yo Self',\n",
       " 'Cow Creek',\n",
       " 'Vanilla Porter',\n",
       " 'Galaxy IPA',\n",
       " 'Gose',\n",
       " 'Vermont Pilsner',\n",
       " 'Fist City',\n",
       " 'Wooden Rooster',\n",
       " '4Beans',\n",
       " 'Easy Jack',\n",
       " 'Take Two Pils',\n",
       " 'Lee Hill Series Vol. 2 - Wild Saison',\n",
       " 'Lee Hill Series Vol. 3 - Barrel Aged Imperial Stout',\n",
       " 'Moar',\n",
       " 'Nordic Blonde',\n",
       " 'Ginger Peach Saison',\n",
       " 'Mazzie',\n",
       " 'Weissenheimer',\n",
       " 'Make It So',\n",
       " 'Passion Fruit Prussia',\n",
       " 'Send Help',\n",
       " 'The Brown Note',\n",
       " 'Neomexicanus Native',\n",
       " 'Daft Funk',\n",
       " 'OktoberFiesta',\n",
       " 'Texicali',\n",
       " 'Bat Outta Helles',\n",
       " 'Rye Wit',\n",
       " 'Yo Soy Un Berliner',\n",
       " \"Farmer's Daughter Blonde\",\n",
       " 'Pump House IPA',\n",
       " 'Vanilla Porter',\n",
       " 'Honey Rye',\n",
       " 'Honey Badger Blonde',\n",
       " 'Porter (a/k/a Black Gold Porter)',\n",
       " 'Jalapeno Pale Ale',\n",
       " 'Old Pro',\n",
       " \"Abbey's Single (2015- )\",\n",
       " 'Vanilla Java Porter',\n",
       " 'Baby Daddy Session IPA',\n",
       " 'Saddle Bronc Brown Ale',\n",
       " 'Bomber Mountain Amber Ale',\n",
       " 'Totally Radler',\n",
       " 'Jammer',\n",
       " 'Pale Alement',\n",
       " 'Slow Ride',\n",
       " 'Hopvale Organic Ale',\n",
       " 'Blackberry Wheat',\n",
       " 'Chupahopra',\n",
       " '312 Urban Pale Ale',\n",
       " 'Hustle',\n",
       " 'Pure Fury',\n",
       " 'Rhode Island Blueberry',\n",
       " 'Watermelon Ale',\n",
       " 'Peach Pale Ale',\n",
       " 'White Reaper',\n",
       " 'Suncaster Summer Wheat',\n",
       " 'Brass Knuckle Pale Ale',\n",
       " 'Fenway American Pale Ale',\n",
       " 'Watermelon Ale',\n",
       " 'Bunker Hill Blueberry Ale',\n",
       " 'Consilium',\n",
       " \"Cali Creamin'\",\n",
       " 'Deception',\n",
       " \"Murphy's Law\",\n",
       " 'Alter Ego',\n",
       " 'Hop in the ‘Pool Helles',\n",
       " 'P-Town Pilsner',\n",
       " 'Klickitat Pale Ale',\n",
       " 'Nonstop Hef Hop',\n",
       " 'Nonstop Hef Hop',\n",
       " 'Nonstop Hef Hop',\n",
       " 'Nonstop Hef Hop',\n",
       " 'Nonstop Hef Hop',\n",
       " 'Nonstop Hef Hop',\n",
       " 'Nonstop Hef Hop',\n",
       " 'Nonstop Hef Hop',\n",
       " 'Nonstop Hef Hop',\n",
       " 'Nonstop Hef Hop',\n",
       " 'Nonstop Hef Hop',\n",
       " 'Nonstop Hef Hop',\n",
       " 'Rise Up Red',\n",
       " 'Pine Belt Pale Ale',\n",
       " 'Laka Laka Pineapple',\n",
       " 'IPA #11',\n",
       " 'Blood Orange Honey',\n",
       " 'Main St. Virginia Ale',\n",
       " 'Mr. Blue Sky',\n",
       " 'Weisse Versa (2012)',\n",
       " '18th Anniversary Gose',\n",
       " 'Humbucker Helles',\n",
       " 'Point Special (Current)',\n",
       " 'Point Special',\n",
       " 'Morning Wood Wheat (Current)',\n",
       " 'Old Soul',\n",
       " 'Extra Pale Ale',\n",
       " 'Oklahoma Suks',\n",
       " 'Cubano Espresso',\n",
       " 'Hunny Do Wheat',\n",
       " 'Gansett Light',\n",
       " \"L'il Lucy's Hot Pepper Ale\",\n",
       " 'Little Red Cap',\n",
       " 'Clan Warrior',\n",
       " 'Psycho Penguin Vanilla Porter',\n",
       " 'Peacemaker Pale Ale',\n",
       " 'Shotgun Betty',\n",
       " 'Sweet Josie',\n",
       " 'Ultra Gnar Gnar IPA',\n",
       " 'Jack the Sipper',\n",
       " 'Knotty Blonde Ale',\n",
       " 'Fivepine Chocolate Porter',\n",
       " 'Wild Trail Pale Ale',\n",
       " 'Camelback',\n",
       " \"PUNK'N\",\n",
       " 'Sunbru Kölsch',\n",
       " 'River House',\n",
       " 'Summer Brew',\n",
       " 'Sundown',\n",
       " 'Beer Agent Re-Ignition',\n",
       " 'Pinner Throwback IPA',\n",
       " 'Power & Light',\n",
       " \"Devil's Harvest Extra Pale Ale\",\n",
       " 'Suzy B Dirty Blonde Ale',\n",
       " 'The Golden One',\n",
       " 'Aviator Raspberry Blonde',\n",
       " 'Little Sister India Style Session Ale',\n",
       " 'Hinchtown Hammer Down',\n",
       " 'Point Cascade Pale Ale (2013)',\n",
       " 'Pretzel Stout',\n",
       " 'Rad',\n",
       " \"Santa's Secret\",\n",
       " 'Blonde Hunny',\n",
       " 'Oak Cliff Coffee Ale',\n",
       " 'Seventh Son of a Seventh Son',\n",
       " 'Lake Monster',\n",
       " 'Night Cat',\n",
       " 'Lobo Lito',\n",
       " 'Towhead',\n",
       " 'Day Hike Session',\n",
       " 'American Lager',\n",
       " 'American Amber',\n",
       " 'American Light',\n",
       " 'Pride of Texas Pale Ale',\n",
       " 'Point Special',\n",
       " 'Wisconsin Amber',\n",
       " 'Lake House',\n",
       " 'Bohemian Pils',\n",
       " \"Ermal's\",\n",
       " 'Ironman',\n",
       " 'Honey Kolsch',\n",
       " 'Copperhead Amber',\n",
       " 'Horny Toad Cerveza',\n",
       " 'Native Amber',\n",
       " 'Twisted X',\n",
       " 'White (2015)',\n",
       " 'Sol Drifter',\n",
       " 'Mountain Rescue Pale Ale',\n",
       " 'Sunshine Pils',\n",
       " '312 Urban Pale Ale',\n",
       " '312 Urban Wheat Ale',\n",
       " 'Survival Stout',\n",
       " 'Goose Island India Pale Ale',\n",
       " 'Rubberneck Red',\n",
       " 'Couch Select Lager',\n",
       " 'Double D Blonde',\n",
       " 'Loki Red Ale',\n",
       " 'Campside Session IPA',\n",
       " 'In-Tents India Pale Lager',\n",
       " 'Lost Meridian Wit',\n",
       " 'Celestial Meridian Cascadian Dark Lager',\n",
       " 'Humpback Blonde Ale',\n",
       " 'Hawaiian Crow Porter',\n",
       " 'Volcano Red Ale',\n",
       " 'Mauna Kea Pale Ale',\n",
       " 'Amazon Princess IPA',\n",
       " 'Evil Owl',\n",
       " 'Cowbell',\n",
       " 'Lewbricator Wheat Dopplebock',\n",
       " 'Joey Wheat',\n",
       " 'Oneida',\n",
       " 'North Third Stout',\n",
       " 'Onyx Black Ale',\n",
       " '#002 American I.P.A.',\n",
       " '#004 Session I.P.A.',\n",
       " 'Robert Earl Keen Honey Pils',\n",
       " 'Screamin’ Pumpkin',\n",
       " 'Grand Trunk Bohemian Pils',\n",
       " 'El Rojo',\n",
       " 'Grind Line',\n",
       " 'Dad',\n",
       " 'Monarch Classic American Wheat',\n",
       " \"Sir William's English Brown Ale\",\n",
       " 'Lakefire Rye Pale Ale',\n",
       " '1836',\n",
       " \"Summer's Wit\",\n",
       " 'Point Special (2013)',\n",
       " 'Point Special (2012)',\n",
       " 'First Stand',\n",
       " 'Battle LIne',\n",
       " 'Broken Bridge',\n",
       " 'Point Special Lager',\n",
       " 'What the Butler Saw',\n",
       " 'Laughing Dog Cream Ale',\n",
       " 'Plum St. Porter',\n",
       " 'Even Keel',\n",
       " 'Aprè Shred',\n",
       " 'Yard Sale Winter Lager',\n",
       " 'Wavemaker',\n",
       " 'Pleasure Town',\n",
       " 'Bengali',\n",
       " 'Trail Head',\n",
       " 'Blood Orange Wit',\n",
       " 'Hop Up Offa That Brett (2014)',\n",
       " 'PV Muckle (2013)',\n",
       " 'Bourbon Barrel Batch 666: Sympathy for the Devil',\n",
       " 'Whip Fight',\n",
       " 'Port Barrel Wee Mac',\n",
       " 'Oktoberfest',\n",
       " 'No Wake IPA',\n",
       " 'Boathouse Blonde',\n",
       " 'Cedar Point',\n",
       " 'Winter Warmer (Vault Series)',\n",
       " 'London Homesick Ale',\n",
       " 'Luchesa Lager',\n",
       " 'Slow Ride',\n",
       " 'Imperial Pumpkin Stout',\n",
       " \"Fisherman's Pils\",\n",
       " \"Fisherman's Brew\",\n",
       " 'Noche Dulce',\n",
       " 'Weize Guy',\n",
       " 'UFO Gingerland',\n",
       " 'Black Me Stout',\n",
       " 'Killer Kolsch',\n",
       " 'Pale Alement',\n",
       " 'Bravo Four Point',\n",
       " 'Cream Ale',\n",
       " 'Skylight',\n",
       " 'Kadigan',\n",
       " 'Dammit Jim!',\n",
       " 'Getaway',\n",
       " 'Pub Ale',\n",
       " 'Ballistic Blonde',\n",
       " 'Golden Fleece',\n",
       " 'Smoking Mirror',\n",
       " 'Pursuit',\n",
       " \"Here Gose Nothin'\",\n",
       " 'Ale Cider',\n",
       " 'Pail Ale',\n",
       " \"Norm's Gateway IPA\",\n",
       " 'Barrio Blanco',\n",
       " 'The Great Pumpcan',\n",
       " 'Panther',\n",
       " 'Franz',\n",
       " 'Cherry Ale',\n",
       " 'Shift',\n",
       " 'Bitter Bitch',\n",
       " '1554 Black Lager',\n",
       " 'LuckenBock',\n",
       " 'Texas Pale Ale (TPA)',\n",
       " \"Kol' Beer\",\n",
       " 'FMB 101',\n",
       " 'General George Patton Pilsner',\n",
       " 'Wagon Party',\n",
       " 'Stargrazer',\n",
       " 'Wonderstuff',\n",
       " 'Sensi Harvest',\n",
       " 'Ozark American Pale Ale',\n",
       " 'Saison Pamplemousse',\n",
       " 'Ghost Ship White IPA',\n",
       " 'Upland Wheat Ale',\n",
       " 'Overgrown American Pale Ale',\n",
       " 'Monkey Chased the Weasel',\n",
       " \"Farmer's Tan Red Ale\",\n",
       " 'Zen',\n",
       " 'SunSpot Golden Ale',\n",
       " 'Thai Style White IPA',\n",
       " 'Summer Session Ale',\n",
       " 'Cape Cod Red',\n",
       " 'Beach Blonde',\n",
       " 'Long Trail IPA',\n",
       " 'Trader Session IPA',\n",
       " 'Long Trail Ale',\n",
       " 'Commotion APA',\n",
       " 'Freeride APA',\n",
       " 'Alaskan Amber',\n",
       " 'Hydraulion Red',\n",
       " '40 Mile IPA',\n",
       " 'Lake House',\n",
       " 'Fresh Slice White IPA',\n",
       " 'Montauk Summer Ale',\n",
       " 'Driftwood Ale',\n",
       " 'Sierra Nevada Pale Ale',\n",
       " 'White Rabbit',\n",
       " '14° ESB',\n",
       " 'Lost Sailor IPA',\n",
       " 'Blackmarket Rye IPA',\n",
       " 'Black Market Hefeweizen',\n",
       " 'Aftermath Pale Ale',\n",
       " 'Pt. Bonita Rustic Lager',\n",
       " 'Longhop IPA',\n",
       " 'Lucky Buck',\n",
       " \"Abbey's Single Ale (Current)\",\n",
       " 'Thrasher Session India Pale Ale',\n",
       " 'Gutch English Style Mild Ale',\n",
       " 'Whitecap Wit',\n",
       " 'Seiche Scottish Ale',\n",
       " 'Naked Pig Pale Ale',\n",
       " 'Block Party Robust Porter',\n",
       " 'Local Buzz',\n",
       " 'Contact High',\n",
       " 'Saint Archer White Ale',\n",
       " 'Saint Archer Pale Ale',\n",
       " 'Saint Archer Blonde',\n",
       " 'Hodad Porter',\n",
       " 'Ferus Fluxus Wild Belgian Pale Ale',\n",
       " 'Cougar',\n",
       " 'American Red Porter',\n",
       " 'American Red Saison',\n",
       " 'Colorado Red Ale',\n",
       " 'Wachusett Light IPA',\n",
       " 'Green Monsta IPA',\n",
       " 'Wachusett IPA',\n",
       " 'Original Slacker Ale',\n",
       " 'Chin Music Amber Lager',\n",
       " 'Hefe Lemon',\n",
       " 'Hefe Black',\n",
       " 'Widmer Brothers Hefeweizen',\n",
       " 'Provision',\n",
       " 'One Nut Brown',\n",
       " 'Hop Farm IPA',\n",
       " \"Adam's Stout\",\n",
       " 'Our Legacy IPA',\n",
       " 'Porch Rocker',\n",
       " '312 Urban Wheat Ale',\n",
       " 'LIFT',\n",
       " 'SPRYE',\n",
       " 'Pleasure Town IPA',\n",
       " '#9',\n",
       " 'The Tradition',\n",
       " 'Rodeo Rye Pale Ale',\n",
       " 'Last Stop IPA',\n",
       " 'Rollin Dirty Red Ale',\n",
       " 'Are Wheat There Yet?',\n",
       " 'Thunder Ann',\n",
       " 'Iron Butt Red Ale',\n",
       " 'Hot Date Ale',\n",
       " 'On the Count of 3 (2015)',\n",
       " 'Autocrat Coffee Milk Stout',\n",
       " 'Hijack',\n",
       " 'Jacaranada Rye IPA',\n",
       " 'Lil SIPA',\n",
       " 'Voodoo Love Child',\n",
       " 'White Magick of the Sun',\n",
       " 'Stone Fort Brown Ale',\n",
       " 'Seventh Son Hopped Red Ale',\n",
       " 'Humulus Nimbus Super Pale Ale',\n",
       " 'GreyBeard™ IPA',\n",
       " 'Pisgah Pale Ale',\n",
       " 'When Helles Freezes Over',\n",
       " 'Juke Joint IPA',\n",
       " 'Parade Ground Coffee Porter',\n",
       " 'Just IPA',\n",
       " 'Bronx Summer Pale Ale',\n",
       " 'Bronx Black Pale Ale',\n",
       " 'Dead Armadillo Amber Ale',\n",
       " 'A Slice of Hefen',\n",
       " 'Le Mort Vivant',\n",
       " 'Zombie Monkie',\n",
       " '805',\n",
       " \"Wynona's Big Brown Ale\",\n",
       " 'Gran Met',\n",
       " 'Kilt Dropper Scotch Ale',\n",
       " 'Hopped on the High Seas (Hop #529)',\n",
       " 'Hopped on the High Seas (Calypso)',\n",
       " 'Iron Horse Pale Ale',\n",
       " 'Firemans #4 Blonde Ale (2013)',\n",
       " 'Scape Goat Pale Ale',\n",
       " 'Montana Trout Slayer Ale',\n",
       " 'Moose Drool Brown Ale',\n",
       " 'Wick For Brains',\n",
       " 'Bourbon Barrel Aged Coconut Porter',\n",
       " 'Great Crescent IPA',\n",
       " 'Aurora Lager',\n",
       " 'Great Crescent Blonde Ale',\n",
       " 'Dry-Hopped On The High Seas Caribbean-Style IPA',\n",
       " 'Hopped on the High Seas (Citra)',\n",
       " 'Hopped on the High Seas (Ahtanum)',\n",
       " 'Stir Crazy Winter Ale',\n",
       " 'American Hero',\n",
       " 'Schweet Ale',\n",
       " 'KelSo Nut Brown Lager',\n",
       " 'Riverwalk Blonde Ale',\n",
       " 'Gillespie Brown Ale',\n",
       " 'Manzanita Pale Ale',\n",
       " 'Oakshire Amber Ale',\n",
       " 'Overcast Espresso Stout',\n",
       " 'King Street Hefeweizen',\n",
       " 'Wet Hot American Wheat Ale',\n",
       " 'Trailhead ISA',\n",
       " 'Immersion Amber',\n",
       " 'Wee Muckle',\n",
       " 'Hop Bomber Rye Pale Ale',\n",
       " 'The Long Thaw White IPA',\n",
       " 'Chai Ale',\n",
       " 'Westfield Octoberfest',\n",
       " 'Banner American Rye',\n",
       " 'Banner American Ale',\n",
       " 'Kilt Lifter Scottish-Style Ale',\n",
       " 'Night Cat (2014)',\n",
       " 'Rebel IPA',\n",
       " 'Belgian Style Session Ale',\n",
       " 'Jam Session',\n",
       " 'Pumpkin Beast',\n",
       " 'Morgan Street Oktoberfest',\n",
       " 'The 12th Can™',\n",
       " 'Wood Splitter Pilsner',\n",
       " 'Gyptoberfest',\n",
       " 'Snow King Pale Ale',\n",
       " 'Festeroo Winter Ale',\n",
       " 'Chickawawa Lemonale',\n",
       " 'Royal Brat',\n",
       " \"Maylani's Coconut Stout\",\n",
       " 'Sly Fox Christmas Ale 2013',\n",
       " 'Fat Tire Amber Ale',\n",
       " 'Four Peaks Peach Ale',\n",
       " \"Scruffy's Smoked Alt\",\n",
       " 'Hammer & Sickle',\n",
       " 'Trolley Stop Stout',\n",
       " 'OktoberBeast',\n",
       " 'Lahaina Town Brown',\n",
       " 'Barrel Aged Farmer',\n",
       " 'Plum St. Porter',\n",
       " 'Slow Hand Stout',\n",
       " \"Grandma's Pecan\",\n",
       " 'Mother in Lager',\n",
       " 'Weekend Warrior Pale Ale',\n",
       " 'Sweet Yamma Jamma Ale',\n",
       " 'Dog Days Summer Ale',\n",
       " 'Charlie in the Rye',\n",
       " 'Full Nelson Pale Ale',\n",
       " 'Steel Wheels ESB',\n",
       " 'Blue Mountain Classic Lager',\n",
       " 'Starr Pils',\n",
       " 'Agave Wheat',\n",
       " 'Barney Flats Oatmeal Stout',\n",
       " 'Saison 88',\n",
       " 'Easy Day Kolsch',\n",
       " 'Lights Out Vanilla Cream Extra Stout',\n",
       " 'Worthy Pale',\n",
       " 'Troegenator Doublebock',\n",
       " 'Shark Bait',\n",
       " 'Gator Tail Brown Ale',\n",
       " 'Miami Vice IPA',\n",
       " 'Flying Jenny Extra Pale Ale',\n",
       " 'Lomaland',\n",
       " 'Fortunate Islands',\n",
       " 'Black House',\n",
       " 'Sweet Potato Ale',\n",
       " 'Point the Way IPA',\n",
       " 'Golden Road Hefeweizen',\n",
       " 'Summer Paradise',\n",
       " '51K IPA',\n",
       " '1881 California Red',\n",
       " 'CAPT Black IPA',\n",
       " 'Oval Beach Blonde Ale',\n",
       " 'Ananda India Pale Ale',\n",
       " 'Tiny Bomb',\n",
       " 'Wolverine Premium Lager',\n",
       " 'Hideout Helles',\n",
       " 'Dead Eye Dunkel',\n",
       " 'Peacemaker Pilsner',\n",
       " 'El Conquistador Extra Pale Ale',\n",
       " 'Karbachtoberfest',\n",
       " 'Powder Hound Winter Ale',\n",
       " 'Sudice American Stout',\n",
       " 'Parcae Belgian Style Pale Ale',\n",
       " 'Norns Roggenbier',\n",
       " 'Laimas Kölsch Style Ale',\n",
       " 'Boat Beer',\n",
       " \"Stone's Throw IPA\",\n",
       " 'Tin Roof Watermelon Wheat',\n",
       " 'Caldera Pale Ale',\n",
       " 'Weiss Trash Culture',\n",
       " 'Sand Island Lighthouse',\n",
       " 'Kölsch 151',\n",
       " 'Tybee Island Blonde',\n",
       " 'Savannah Brown Ale',\n",
       " 'North 45 Amber Ale',\n",
       " 'Horny Monk',\n",
       " 'Ballast Point Pale Ale',\n",
       " 'Pigwar White India Pale Ale',\n",
       " 'Two-One Niner',\n",
       " 'Hazed & Infused',\n",
       " 'Old Forge Pumpkin Ale',\n",
       " 'Sanitas Saison Ale',\n",
       " 'Double D Blonde (2013)',\n",
       " 'Osiris Pale Ale',\n",
       " 'The Crisp',\n",
       " 'Sweet Action',\n",
       " 'Righteous Ale',\n",
       " 'Bengali Tiger',\n",
       " 'Beaver Logger',\n",
       " 'Harpoon Summer Beer',\n",
       " 'Harpoon IPA',\n",
       " \"Ruhstaller's Gilt Edge Lager Beer\",\n",
       " 'Stupid Sexy Flanders',\n",
       " 'Grisette',\n",
       " 'Half Full Bright Ale',\n",
       " 'Screaming Eagle Special Ale ESB',\n",
       " 'Point Oktoberfest',\n",
       " \"Monk from the 'Yunk\",\n",
       " 'Schuylkill Punch',\n",
       " '541 American Lager',\n",
       " 'Grazias',\n",
       " 'Summer Solstice',\n",
       " 'Boston Lager',\n",
       " 'KelSo Pilsner',\n",
       " 'UFO Pumpkin',\n",
       " 'Old Chico Crystal Wheat',\n",
       " 'Float Trip Ale',\n",
       " 'Quakertown Stout',\n",
       " 'Greenbelt Farmhouse Ale',\n",
       " 'Hardywood Cream Ale',\n",
       " 'Boont Amber Ale',\n",
       " 'Big Rod Coconut Ale',\n",
       " 'Schlafly Yakima Wheat Ale',\n",
       " 'Green Bullet Organic India Pale Ale',\n",
       " 'Wild Wolf Wee Heavy Scottish Style Ale',\n",
       " 'Steel Rail Extra Pale Ale',\n",
       " 'Harpoon Octoberfest',\n",
       " 'Westbrook Gose',\n",
       " 'Boston Lager',\n",
       " 'Rhino Chasers Pilsner',\n",
       " 'Blur India Pale Ale',\n",
       " 'Gateway Kolsch Style Ale',\n",
       " 'Estival Cream Stout',\n",
       " 'Point the Way IPA',\n",
       " 'Summerfest',\n",
       " 'Narragansett Bohemian Pilsner',\n",
       " 'Bozone Hefe Weizen',\n",
       " 'Dog Days Lager',\n",
       " 'Na Zdraví Pilsner',\n",
       " 'Samuel Adams Octoberfest',\n",
       " 'East India Pale Ale',\n",
       " 'Longboard Island Lager',\n",
       " \"Louie's Demise Amber Ale\",\n",
       " 'Capital Trail Pale Ale',\n",
       " 'Great Crescent Coconut Porter',\n",
       " 'Rustic Red',\n",
       " 'El Hefe Speaks',\n",
       " 'Bent Paddle Black Ale',\n",
       " 'Wee-Heavy-Er Scotch Ale',\n",
       " '13 Rebels ESB',\n",
       " 'Jack Pine Savage',\n",
       " 'Venture Pils',\n",
       " 'Main St. Virginia Ale',\n",
       " 'Ray Ray’s Pale Ale',\n",
       " 'Dos Pistolas',\n",
       " 'Big Nose',\n",
       " 'Cotton Mouth',\n",
       " 'Stump Knocker Pale Ale',\n",
       " 'Midnight Oil',\n",
       " 'Wild Night',\n",
       " 'Pit Stop Chocolate Porter',\n",
       " 'Pace Setter Belgian Style Wit',\n",
       " 'Love Street Summer Seasonal (2014)',\n",
       " 'Mad Beach',\n",
       " 'Three Skulls Ale Pale Ale',\n",
       " 'Point Nude Beach Summer Wheat',\n",
       " 'All Day IPA',\n",
       " 'Barney Flats Oatmeal Stout',\n",
       " 'Longboard Island Lager',\n",
       " 'El Steinber Dark Lager',\n",
       " 'Chuli Stout',\n",
       " \"SUM'R\",\n",
       " 'Mirror Pond Pale Ale',\n",
       " 'Twisted Helles Summer Lager',\n",
       " 'Northern Lights India Pale Ale',\n",
       " 'Farmhouse Wit',\n",
       " 'Striped Bass Pale Ale',\n",
       " 'Bomber Mountain Amber Ale (2013)',\n",
       " 'Saddle Bronc Brown Ale (2013)',\n",
       " 'Wagon Box Wheat Beer',\n",
       " 'Wild Plum Farmhouse Ale',\n",
       " 'Wild Wolf American Pilsner',\n",
       " 'Alpha Ale',\n",
       " 'Peninsula Brewers Reserve (PBR)',\n",
       " 'Hazy Day Belgian-Style Wit',\n",
       " 'Kindler Pale Ale',\n",
       " \"Elliott's Phoned Home Pale Ale\",\n",
       " 'Old Chub',\n",
       " \"Mo's Gose\",\n",
       " 'Farm Girl Saison',\n",
       " \"Mama's Little Yella Pils\",\n",
       " 'Colorado Native',\n",
       " 'Oatmeal PSA',\n",
       " 'Mother Ale',\n",
       " 'Lumberyard Pilsner',\n",
       " 'Hell-Diver Pale Ale',\n",
       " 'Woolybugger Wheat',\n",
       " 'EOS Hefeweizen',\n",
       " 'Brunette Nut Brown Ale',\n",
       " 'Cardinal Pale Ale',\n",
       " 'Samuel Adams Summer Ale',\n",
       " 'Boston Lager',\n",
       " 'Maduro Brown Ale',\n",
       " 'Pre Flight Pilsner',\n",
       " 'Our Legacy IPA',\n",
       " 'Ring of Dingle',\n",
       " 'Bourbon Barrel Wee Mac',\n",
       " 'Gnarly Brown',\n",
       " 'Happy Amber',\n",
       " 'Helles Golden Lager',\n",
       " 'Sidekick Extra Pale Ale',\n",
       " 'Hipster Breakfast',\n",
       " 'Suzy B Dirty Blonde Ale',\n",
       " \"Devil's Harvest Extra Pale Ale\",\n",
       " 'Shenanigans Summer Ale',\n",
       " 'Elder Betty',\n",
       " 'Sweet As Pacific Ale',\n",
       " 'Pablo Beach Pale Ale',\n",
       " 'Organic Baba Black Lager',\n",
       " 'Narragansett Summer Ale',\n",
       " \"Hans' Pils (2015)\",\n",
       " 'Double Bag',\n",
       " 'Cutthroat Pale Ale',\n",
       " 'Four Squared (2015)',\n",
       " 'Rise-Up Red (2014)',\n",
       " 'RecreationAle',\n",
       " 'Hop Happy',\n",
       " 'Schlafly IPA',\n",
       " 'Schlafly American Brown Ale',\n",
       " 'Epicenter Amber Ale',\n",
       " 'SanTan HefeWeizen',\n",
       " 'Longboard Island Lager',\n",
       " 'Barn Burner Saison',\n",
       " 'Owney Irish Style Red Ale',\n",
       " 'Vanilla Bean Buffalo Sweat',\n",
       " \"The Hole in Hadrian's Wall\",\n",
       " '33 Select Brown Ale',\n",
       " 'South Ridge Amber Ale',\n",
       " 'Honey Wheat',\n",
       " 'Black Bear Dark Lager',\n",
       " 'The Lawn Ranger',\n",
       " 'Bourbon Barrel Johan',\n",
       " 'Back in the Saddle Rye Pale Ale',\n",
       " 'Golden Pilsner',\n",
       " 'Atom Smasher',\n",
       " 'Bronx Pale Ale',\n",
       " 'Country Pale Ale',\n",
       " 'Wachusett Light IPA (2013)',\n",
       " 'Fireside Chat',\n",
       " 'Watership Brown Ale',\n",
       " 'Orange Wheat',\n",
       " 'Hangar 24 Helles Lager',\n",
       " 'Old Potentate',\n",
       " 'Tallgrass Pub Ale',\n",
       " \"5:00 O'Clock Afternoon Ale\",\n",
       " 'Good People Pale Ale',\n",
       " 'Get Up Offa That Brown',\n",
       " 'Loose Cannon',\n",
       " 'AARGHtoberfest!',\n",
       " 'Morning Wood',\n",
       " 'Bark Bite IPA',\n",
       " 'Leaning Chimney Smoked Porter',\n",
       " 'Poop Deck Porter',\n",
       " 'Old Red Beard Amber Ale',\n",
       " 'WYLD Extra Pale Ale',\n",
       " 'Phat Chance',\n",
       " 'Capital Gold Golden Lager',\n",
       " \"Farmer John's Multi-Grain Ale\",\n",
       " 'Field 41 Pale Ale',\n",
       " \"Mac's Scottish Style Amber Ale (2000)\",\n",
       " 'Wisco Disco',\n",
       " 'Shift (1)',\n",
       " 'Alloy',\n",
       " 'Rivet Irish Red Ale',\n",
       " '3 Gear Robust Porter',\n",
       " 'Circuit Bohemian Pilsner',\n",
       " 'Dallas Blonde',\n",
       " 'Long Hammer IPA',\n",
       " 'Gangway IPA',\n",
       " 'Booyah Farmhouse Ale',\n",
       " 'Great Crescent Oktoberfest Lager',\n",
       " 'Single Engine Red',\n",
       " 'Belgorado',\n",
       " 'Sly Fox Christmas Ale 2012 (2012)',\n",
       " 'Lily Flagg Milk Stout',\n",
       " 'Deadicated Amber',\n",
       " 'The Velvet Fog',\n",
       " 'Northern Lights Amber Ale',\n",
       " 'Polar Pale Ale',\n",
       " \"Becky's Black Cat Porter\",\n",
       " 'Pumpkan',\n",
       " 'Harvest Ale',\n",
       " 'Loki Red Ale (2013)',\n",
       " 'Wheat the People',\n",
       " 'Payette Pale Ale',\n",
       " \"Hilliard's Pils\",\n",
       " \"1327 Pod's ESB\",\n",
       " \"1327 Pod's ESB\",\n",
       " 'CAPT Black IPA',\n",
       " '1881 California Red Ale',\n",
       " 'Apricot Blonde',\n",
       " 'Lawnmower Lager',\n",
       " 'Bitter American',\n",
       " 'Fremont Summer Ale',\n",
       " 'Sun King Oktoberfest',\n",
       " 'Dry Dock Hefeweizen',\n",
       " 'Dry Dock Amber Ale',\n",
       " 'British Pale Ale (2010)',\n",
       " 'Widespread Wit',\n",
       " 'Roller Dam Red Ale',\n",
       " '483 Pale Ale',\n",
       " 'Universale Pale Ale',\n",
       " 'Bombshell Blonde',\n",
       " 'Special Amber',\n",
       " 'Sex Panther (2014)',\n",
       " 'Devil’s Ale',\n",
       " 'Old Tom Porter',\n",
       " 'Black Walnut Wheat',\n",
       " 'Desolation IPA',\n",
       " 'Firemans #4 Blonde Ale (2015)',\n",
       " 'Tonganoxie Honey Wheat',\n",
       " 'Point Nude Beach Summer Wheat',\n",
       " 'Boont Amber Ale (2010)',\n",
       " 'Hoopla Pale Ale',\n",
       " 'Hell or High Watermelon Wheat (2009)',\n",
       " 'Hell or High Watermelon Wheat (2009)',\n",
       " '21st Amendment Watermelon Wheat Beer (2006)',\n",
       " 'Ashland Amber Ale (2009)',\n",
       " 'Caldera Pale Ale (2010)',\n",
       " 'Caldera Pale Ale (2009)',\n",
       " 'Caldera Pale Ale (2005)',\n",
       " 'Caldera Pale Ale (2007)',\n",
       " 'Old Chub (2008)',\n",
       " 'Old Chub (2004)',\n",
       " 'Old Chub (2003)',\n",
       " 'Choc Beer (2003)',\n",
       " 'Brownstone',\n",
       " 'Mr. Pineapple',\n",
       " 'Mutton Buster',\n",
       " 'Blueberry Blonde Ale',\n",
       " 'Point Nude Beach Summer Wheat (2011)',\n",
       " 'Harpoon IPA (2012)',\n",
       " 'Harpoon Summer Beer (2012)',\n",
       " 'Moose Drool Brown Ale (2011)',\n",
       " 'Montana Trout Slayer Ale (2012)',\n",
       " 'Buffalo Sweat',\n",
       " 'American Idiot Ale (2012)',\n",
       " 'P-51 Porter',\n",
       " 'Cold Smoke Scotch Ale (2007)',\n",
       " 'Summer Solstice Cerveza Crema (2009)',\n",
       " 'Hurricane Amber Ale (2004)',\n",
       " 'Fat Tire Amber Ale (2011)',\n",
       " 'Indianapolis Indians Lager',\n",
       " 'Ornery Amber Lager (2003)',\n",
       " 'Gordon Beer (2006)',\n",
       " 'Day Tripper Pale Ale',\n",
       " \"Hilliard's Blonde\",\n",
       " 'Devils Tramping Ground Tripel',\n",
       " 'Hot Rod Red',\n",
       " 'Indians Victory Lager (2012)',\n",
       " 'Stimulator Pale Ale',\n",
       " 'Old Town Ale',\n",
       " 'Car 21',\n",
       " 'Cache La Porter',\n",
       " 'Flying Jenny Extra Pale Ale (2012)',\n",
       " 'Blue Point White IPA',\n",
       " \"Sobrehumano Palena'ole\",\n",
       " 'Lava Lake Wit',\n",
       " 'Upslope Belgian Style Pale Ale',\n",
       " 'Summertime Ale',\n",
       " 'Halcyon Unfiltered Wheat',\n",
       " 'Dottie Seattle Lager',\n",
       " 'Mucho Aloha Hawaiian Pale Ale',\n",
       " 'Blue Point Summer Ale',\n",
       " 'Toasted Lager',\n",
       " 'TailGate IPA',\n",
       " 'TailGate IPA',\n",
       " 'Crabtree Oatmeal Stout',\n",
       " 'HUB Lager',\n",
       " 'Farmer Brown Ale',\n",
       " 'Three Kings Ale',\n",
       " 'Great Crescent Brown Ale',\n",
       " 'Full Boar Scotch Ale',\n",
       " 'Big River Pilsner',\n",
       " 'Cherry Ale (1)',\n",
       " 'House Brand IPA',\n",
       " 'Flagship Ale',\n",
       " 'Apollo',\n",
       " 'Harbinger',\n",
       " 'Aurora Lager (2011)',\n",
       " 'TailGate Hefeweizen',\n",
       " 'Blacktop Blonde',\n",
       " 'Wachusett Blueberry Ale',\n",
       " 'Green Monsta IPA',\n",
       " 'Zonker Stout',\n",
       " 'Frosted Fields Winter Wheat',\n",
       " \"1327 Pod's ESB\",\n",
       " '834 Happy As Ale',\n",
       " 'UFO White',\n",
       " 'Rosa Hibiscus Ale',\n",
       " 'Snake Dog IPA',\n",
       " 'Underdog Atlantic Lager',\n",
       " 'Midwest Charm Farmhouse Ale',\n",
       " 'Boji Blue Pale Ale',\n",
       " 'Winter Games Select #32 Stout',\n",
       " 'Boji Beach Golden Rye Ale',\n",
       " \"This Season's Blonde\",\n",
       " 'Longboard Island Lager',\n",
       " 'Schlafly Hefeweizen',\n",
       " 'Snowshoe White Ale',\n",
       " 'Kodiak Brown Ale',\n",
       " 'Wee Muckle (2011)',\n",
       " 'Long Hammer IPA',\n",
       " '312 Urban Wheat Ale (2012)',\n",
       " 'Narragansett Cream Ale',\n",
       " 'Shift',\n",
       " 'White Thai',\n",
       " 'Blackbeary Wheat',\n",
       " 'Long Trail Ale (1)',\n",
       " 'Barney Flats Oatmeal Stout (2012)',\n",
       " 'Maduro Brown Ale',\n",
       " 'Churchkey Pilsner Style Beer',\n",
       " 'East India Pale Ale',\n",
       " 'Fat Tire Amber Ale',\n",
       " 'Persnickety Pale',\n",
       " 'Jon Boat Coastal Ale',\n",
       " 'I-10 IPA',\n",
       " 'Le Mort Vivant (2011)',\n",
       " \"People's Pale Ale\",\n",
       " 'Rocket Girl',\n",
       " 'Point the Way IPA (2012)',\n",
       " 'Golden Road Hefeweizen (2012)',\n",
       " 'La Perouse White',\n",
       " 'Florida Cracker Belgian Wit',\n",
       " 'Oktoberfest',\n",
       " 'Dirty Blonde Ale',\n",
       " 'Amber Road',\n",
       " 'Special Edition: Allies Win The War!',\n",
       " 'Tin Roof Blonde Ale',\n",
       " 'Grand Circus IPA',\n",
       " \"Atwater's Lager\",\n",
       " 'Sun King Oktoberfest (2011)',\n",
       " 'Winter Solstice',\n",
       " 'McKinney Eddy Amber Ale',\n",
       " 'SoDo Brown Ale',\n",
       " 'Immersion Amber Ale (2011)',\n",
       " '40th Annual Bix Street Fest Copper Ale (Current)',\n",
       " 'Jockamo IPA',\n",
       " 'Purple Haze',\n",
       " 'Abita Amber',\n",
       " 'Bomb Lager (Old Recipe)',\n",
       " 'Autumnation (2011-12) (2011)',\n",
       " 'Alteration',\n",
       " 'Pale Dog',\n",
       " 'Double D Blonde (2011)',\n",
       " \"Hilliard's Amber Ale\",\n",
       " \"Hilliard's Saison\",\n",
       " 'Voodoo Bengal Pale Ale',\n",
       " 'Perfect Tin Amber',\n",
       " 'Trailhead India Style Session Ale (2011)',\n",
       " 'Great Crescent Belgian Style Wit',\n",
       " 'Fox Tail Gluten Free Ale',\n",
       " 'Joseph James American Lager',\n",
       " 'Top Rope Mexican-style Craft Lager',\n",
       " 'Sympathy for the Lager',\n",
       " 'Weisse Versa',\n",
       " 'Dundee Summer Wheat Beer',\n",
       " 'Point Oktoberfest',\n",
       " 'Special Amber',\n",
       " 'Upslope Craft Lager',\n",
       " 'Great Crescent Coconut Porter (2012)',\n",
       " 'Great Crescent Dark Lager',\n",
       " 'Great Crescent Mild Ale',\n",
       " 'Great Crescent IPA (2011)',\n",
       " 'Greenville Pale Ale',\n",
       " 'Colorado Native (2011)',\n",
       " 'Ninja Porter',\n",
       " 'The Crisp (2011)',\n",
       " 'Sweet Action (2011)',\n",
       " 'Righteous Ale (2011)',\n",
       " 'Bengali Tiger (2011)',\n",
       " 'Mustang Golden Ale',\n",
       " 'Washita Wheat',\n",
       " 'Fistmas Ale',\n",
       " 'Oktoberfest Revolution',\n",
       " 'Eugene Porter',\n",
       " 'Bottom Up Belgian Wit',\n",
       " 'Sky High Rye',\n",
       " 'Halcyon Unfiltered Wheat',\n",
       " 'OB-1 Organic Ale',\n",
       " 'Snake River Lager',\n",
       " 'Black Star Double Hopped Golden Lager ',\n",
       " 'Narragansett Summer Ale',\n",
       " 'Snake River Pale Ale',\n",
       " 'Sierra Nevada Pale Ale',\n",
       " 'Pyramid Hefeweizen (2011)',\n",
       " 'Wild Onion Summer Wit',\n",
       " 'SummerBright Ale',\n",
       " 'Johan the Barleywine',\n",
       " 'Pako’s EyePA',\n",
       " 'Rumspringa Golden Bock',\n",
       " 'One Hit Wonder',\n",
       " 'Whitsun',\n",
       " 'Great Crescent Blonde Ale (2011)',\n",
       " 'Mexican Logger',\n",
       " 'Common Sense Kentucky Common Ale',\n",
       " 'Redband Stout',\n",
       " 'Festie',\n",
       " 'Northern Lights India Pale Ale',\n",
       " 'Jack Stout',\n",
       " 'Blacktop Blonde',\n",
       " 'TailGate Hefeweizen',\n",
       " '#9',\n",
       " 'Hop Knot IPA',\n",
       " '2012 Black Ale',\n",
       " 'Crazy Mountain Amber Ale',\n",
       " 'Bitter American (2011)',\n",
       " 'Copper Hook (2011)',\n",
       " 'Fireside Chat (2010)',\n",
       " 'Narragansett Porter',\n",
       " 'Narragansett Bock',\n",
       " 'Narragansett Fest Lager',\n",
       " 'Mana Wheat',\n",
       " 'Coffee Oatmeal Stout',\n",
       " 'Good People American Brown Ale',\n",
       " 'SanTan HefeWeizen (2010)',\n",
       " 'Devil’s Ale (2010)',\n",
       " 'Wee Mac Scottish-Style Ale',\n",
       " 'Lancaster German Style Kölsch',\n",
       " 'Harpoon Summer Beer (2010)',\n",
       " '483 Pale Ale (2010)',\n",
       " 'Roller Dam Red Ale (2010)',\n",
       " 'Pallavicini Pilsner (2009)',\n",
       " 'Pamola Xtra Pale Ale',\n",
       " 'Kilt Lifter Scottish-Style Ale (2009)',\n",
       " 'Flaming Damsel Lager (2010)',\n",
       " 'Louie’s Demise Immort-Ale (2010)',\n",
       " 'Native Amber (2013)',\n",
       " 'Horny Toad Cerveza (2013)',\n",
       " 'Oktoberfest Lager',\n",
       " 'Black Star Double Hopped Golden Lager ',\n",
       " 'Paddy Pale Ale',\n",
       " 'Scape Goat Pale Ale (2010)',\n",
       " 'Avery Joe’s Premium American Pilsner',\n",
       " 'Silverback Pale Ale',\n",
       " 'Point Nude Beach Summer Wheat (2010)',\n",
       " 'Point Cascade Pale Ale',\n",
       " 'Point Amber Classic',\n",
       " 'Point Special Lager',\n",
       " 'Morning Wood Wheat (Current)',\n",
       " \"O'Fallon Wheach\",\n",
       " ...]"
      ]
     },
     "execution_count": 40,
     "metadata": {},
     "output_type": "execute_result"
    }
   ],
   "source": [
    "low_ibu_beers['Beer'].tolist()"
   ]
  },
  {
   "cell_type": "markdown",
   "metadata": {},
   "source": [
    "## List the median IBUs of each type of beer. Graph it.\n",
    "\n",
    "Put the highest at the top, and the missing ones at the bottom.\n",
    "\n",
    "- Tip: Look at the options for `sort_values` to figure out the `NaN` thing. The `?` probably won't help you here."
   ]
  },
  {
   "cell_type": "code",
   "execution_count": 45,
   "metadata": {},
   "outputs": [
    {
     "data": {
      "text/plain": [
       "Style\n",
       "American Barleywine                   96.0\n",
       "Russian Imperial Stout                94.0\n",
       "American Double / Imperial IPA        91.0\n",
       "American Double / Imperial Pilsner    85.0\n",
       "American Black Ale                    73.0\n",
       "                                      ... \n",
       "Kristalweizen                          NaN\n",
       "Low Alcohol Beer                       NaN\n",
       "Mead                                   NaN\n",
       "Rauchbier                              NaN\n",
       "Shandy                                 NaN\n",
       "Name: IBUs, Length: 99, dtype: float64"
      ]
     },
     "execution_count": 45,
     "metadata": {},
     "output_type": "execute_result"
    }
   ],
   "source": [
    "median_IBUs_style = df.groupby('Style')['IBUs'].median().sort_values(ascending=False, na_position='last')\n",
    "median_IBUs_style"
   ]
  },
  {
   "cell_type": "code",
   "execution_count": 49,
   "metadata": {},
   "outputs": [
    {
     "data": {
      "text/plain": [
       "<Axes: xlabel='Style'>"
      ]
     },
     "execution_count": 49,
     "metadata": {},
     "output_type": "execute_result"
    },
    {
     "data": {
      "image/png": "[encoded data removed]",
      "text/plain": [
       "<Figure size 640x480 with 1 Axes>"
      ]
     },
     "metadata": {},
     "output_type": "display_data"
    }
   ],
   "source": [
    "median_IBUs_style.plot(kind='bar')"
   ]
  },
  {
   "cell_type": "markdown",
   "metadata": {},
   "source": [
    "## Hmmmm, it looks like they are generally different styles. What are the most common 5 styles of high-IBU beer vs. low-IBU beer?\n",
    "\n",
    "- *Tip: You'll want to think about it in three pieces - filtering to only find the specific beers beers, then finding out what the most common styles are, then getting the top 5.*\n",
    "- *Tip: You CANNOT do this in one command. It's going to be one command for the high and one for the low.*\n",
    "- *Tip: \"High IBU\" means higher than 75th percentile, \"Low IBU\" is under 25th percentile*"
   ]
  },
  {
   "cell_type": "code",
   "execution_count": 54,
   "metadata": {},
   "outputs": [
    {
     "data": {
      "text/plain": [
       "Style\n",
       "American IPA                      195\n",
       "American Double / Imperial IPA     72\n",
       "American Pale Ale (APA)            18\n",
       "American Black Ale                 15\n",
       "American Strong Ale                 9\n",
       "Name: count, dtype: int64"
      ]
     },
     "execution_count": 54,
     "metadata": {},
     "output_type": "execute_result"
    }
   ],
   "source": [
    "high_ibu_beers['Style'].value_counts().head()"
   ]
  },
  {
   "cell_type": "code",
   "execution_count": 55,
   "metadata": {},
   "outputs": [
    {
     "data": {
      "text/plain": [
       "Style\n",
       "American Pale Ale (APA)     135\n",
       "American IPA                100\n",
       "American Amber / Red Ale     70\n",
       "American Blonde Ale          61\n",
       "American Pale Wheat Ale      60\n",
       "Name: count, dtype: int64"
      ]
     },
     "execution_count": 55,
     "metadata": {},
     "output_type": "execute_result"
    }
   ],
   "source": [
    "low_ibu_beers['Style'].value_counts().head()"
   ]
  },
  {
   "cell_type": "markdown",
   "metadata": {},
   "source": [
    "## Get the average IBU of \"Witbier\", \"Hefeweizen\" and \"American Pale Wheat Ale\" styles\n",
    "\n",
    "I'm counting these as wheat beers. If you see any other wheat beer categories, feel free to include them. I want ONE measurement and ONE graph, not three separate ones. And 20 to 30 bins in the histogram, please.\n",
    "\n",
    "- *Tip: I hope that `isin` is in your toolbox*"
   ]
  },
  {
   "cell_type": "code",
   "execution_count": 56,
   "metadata": {},
   "outputs": [
    {
     "data": {
      "text/plain": [
       "np.float64(18.982142857142858)"
      ]
     },
     "execution_count": 56,
     "metadata": {},
     "output_type": "execute_result"
    }
   ],
   "source": [
    "df[df['Style'].isin(['Witbier', 'Hefeweizen', 'American Pale Wheat Ale'])]['IBUs'].mean()"
   ]
  },
  {
   "cell_type": "markdown",
   "metadata": {},
   "source": [
    "## Draw a histogram of the IBUs of those beers"
   ]
  },
  {
   "cell_type": "code",
   "execution_count": 57,
   "metadata": {},
   "outputs": [
    {
     "data": {
      "text/plain": [
       "<Axes: ylabel='Frequency'>"
      ]
     },
     "execution_count": 57,
     "metadata": {},
     "output_type": "execute_result"
    },
    {
     "data": {
      "image/png": "[encoded data removed]",
      "text/plain": [
       "<Figure size 640x480 with 1 Axes>"
      ]
     },
     "metadata": {},
     "output_type": "display_data"
    }
   ],
   "source": [
    "df[df['Style'].isin(['Witbier', 'Hefeweizen', 'American Pale Wheat Ale'])]['IBUs'].plot(kind='hist', bins=30)"
   ]
  },
  {
   "cell_type": "markdown",
   "metadata": {},
   "source": [
    "## Get the average IBU of any style with \"IPA\" in it (also draw a histogram)"
   ]
  },
  {
   "cell_type": "code",
   "execution_count": 58,
   "metadata": {},
   "outputs": [
    {
     "data": {
      "text/plain": [
       "np.float64(71.94897959183673)"
      ]
     },
     "execution_count": 58,
     "metadata": {},
     "output_type": "execute_result"
    }
   ],
   "source": [
    "df[df['Style'].str.contains('IPA', na=False)]['IBUs'].mean()"
   ]
  },
  {
   "cell_type": "code",
   "execution_count": 59,
   "metadata": {},
   "outputs": [
    {
     "data": {
      "text/plain": [
       "<Axes: ylabel='Frequency'>"
      ]
     },
     "execution_count": 59,
     "metadata": {},
     "output_type": "execute_result"
    },
    {
     "data": {
      "image/png": "[encoded data removed]",
      "text/plain": [
       "<Figure size 640x480 with 1 Axes>"
      ]
     },
     "metadata": {},
     "output_type": "display_data"
    }
   ],
   "source": [
    "df[df['Style'].str.contains('IPA', na=False)]['IBUs'].plot(kind='hist', bins=30)"
   ]
  },
  {
   "cell_type": "markdown",
   "metadata": {},
   "source": [
    "## Plot those two histograms in the same cell!\n",
    "\n",
    "I swear the behavior of this changes every year. Does it make two charts? Does it overlap them in one?"
   ]
  },
  {
   "cell_type": "code",
   "execution_count": 64,
   "metadata": {},
   "outputs": [
    {
     "data": {
      "text/plain": [
       "<Axes: ylabel='Frequency'>"
      ]
     },
     "execution_count": 64,
     "metadata": {},
     "output_type": "execute_result"
    },
    {
     "data": {
      "image/png": "[encoded data removed]",
      "text/plain": [
       "<Figure size 640x480 with 1 Axes>"
      ]
     },
     "metadata": {},
     "output_type": "display_data"
    }
   ],
   "source": [
    "df[df['Style'].isin(['Witbier', 'Hefeweizen', 'American Pale Wheat Ale'])]['IBUs'].plot(kind='hist', bins=30)\n",
    "\n",
    "df[df['Style'].str.contains('IPA', na=False)]['IBUs'].plot(kind='hist', bins=30)"
   ]
  },
  {
   "cell_type": "code",
   "execution_count": 65,
   "metadata": {},
   "outputs": [
    {
     "data": {
      "text/plain": [
       "<Axes: ylabel='Frequency'>"
      ]
     },
     "execution_count": 65,
     "metadata": {},
     "output_type": "execute_result"
    },
    {
     "data": {
      "image/png": "[encoded data removed]",
      "text/plain": [
       "<Figure size 640x480 with 1 Axes>"
      ]
     },
     "metadata": {},
     "output_type": "display_data"
    }
   ],
   "source": [
    "df[df['Style'].isin(['Witbier', 'Hefeweizen', 'American Pale Wheat Ale'])]['IBUs'].plot(kind='hist', bins=30, alpha=0.6, label='Wheat Beers')\n",
    "\n",
    "df[df['Style'].str.contains('IPA', na=False)]['IBUs'].plot(kind='hist', bins=30, alpha=0.6, label='IPAs')"
   ]
  },
  {
   "cell_type": "markdown",
   "metadata": {},
   "source": [
    "## Compare the ABV of wheat beers vs. IPAs : their IBUs were really different, but how about their alcohol percentage?\n",
    "\n",
    "Wheat beers might include witbier, hefeweizen, American Pale Wheat Ale, and anything else you think is wheaty. IPAs probably have \"IPA\" in their name."
   ]
  },
  {
   "cell_type": "code",
   "execution_count": 67,
   "metadata": {},
   "outputs": [
    {
     "data": {
      "text/plain": [
       "np.float64(5.043715846994536)"
      ]
     },
     "execution_count": 67,
     "metadata": {},
     "output_type": "execute_result"
    }
   ],
   "source": [
    "df[df['Style'].isin(['Witbier', 'Hefeweizen', 'American Pale Wheat Ale'])]['ABV'].mean()"
   ]
  },
  {
   "cell_type": "code",
   "execution_count": 68,
   "metadata": {},
   "outputs": [
    {
     "data": {
      "text/plain": [
       "np.float64(6.879285714285714)"
      ]
     },
     "execution_count": 68,
     "metadata": {},
     "output_type": "execute_result"
    }
   ],
   "source": [
    "df[df['Style'].str.contains('IPA', na=False)]['ABV'].mean()"
   ]
  },
  {
   "cell_type": "code",
   "execution_count": 69,
   "metadata": {},
   "outputs": [
    {
     "data": {
      "text/plain": [
       "<Axes: ylabel='Frequency'>"
      ]
     },
     "execution_count": 69,
     "metadata": {},
     "output_type": "execute_result"
    },
    {
     "data": {
      "image/png": "[encoded data removed]",
      "text/plain": [
       "<Figure size 640x480 with 1 Axes>"
      ]
     },
     "metadata": {},
     "output_type": "display_data"
    }
   ],
   "source": [
    "df[df['Style'].isin(['Witbier', 'Hefeweizen', 'American Pale Wheat Ale'])]['ABV'].plot(kind='hist', bins=30, alpha=0.6, label='Wheat Beers')\n",
    "\n",
    "df[df['Style'].str.contains('IPA', na=False)]['ABV'].plot(kind='hist', bins=30, alpha=0.6, label='IPAs')"
   ]
  },
  {
   "cell_type": "markdown",
   "metadata": {
    "collapsed": true,
    "jupyter": {
     "outputs_hidden": true
    }
   },
   "source": [
    "## Good work!"
   ]
  }
 ],
 "metadata": {
  "kernelspec": {
   "display_name": "Python 3 (ipykernel)",
   "language": "python",
   "name": "python3"
  },
  "language_info": {
   "codemirror_mode": {
    "name": "ipython",
    "version": 3
   },
   "file_extension": ".py",
   "mimetype": "text/x-python",
   "name": "python",
   "nbconvert_exporter": "python",
   "pygments_lexer": "ipython3",
   "version": "3.12.10"
  }
 },
 "nbformat": 4,
 "nbformat_minor": 4
}
